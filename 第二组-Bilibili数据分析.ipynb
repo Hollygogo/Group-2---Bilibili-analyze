{
 "cells": [
  {
   "cell_type": "markdown",
   "metadata": {},
   "source": [
    "# 第二组 - Bilibili数据分析\n",
    "陈鹏 李雨欣 唐铭泽 杨贺翔 曹施敏\n",
    "\n",
    "\n",
    "## Part 1 描述性分析\n",
    "* 读入数据\n",
    "* 对数据进行删重处理\n",
    "* 绘制播放量和投币数统计图\n",
    "* 计算投币转化率\n",
    "* 用图表展示各视频分区投币率情况\n",
    "\n",
    "## Part 2 回归分析\n",
    "* Model 1 - 线性回归：标题长度、标签长度、弹幕数\n",
    "* Model 2 - KNN预测投币率\n",
    "* Model 3 - 综合评分的权重\n",
    "\n",
    "## Part 3 爬取弹幕绘制词云\n",
    "* 用爬虫获取b站5月榜单各分区排名第一的视频发布后一个月内的弹幕数据\n",
    "* 根据弹幕数据中的词频绘制特定形状和颜色的词云\n",
    "* 根据爬取的弹幕数据统计各分区各经典弹幕用语出现频率\n",
    "\n",
    "## Part 4 游戏人物人脸识别\n",
    "* 用爬虫获取英雄联盟网站上英雄的图像信息\n",
    "* 识别输入图片与哪位英雄最相似"
   ]
  },
  {
   "cell_type": "markdown",
   "metadata": {},
   "source": [
    "# Part 1"
   ]
  },
  {
   "cell_type": "code",
   "execution_count": 21,
   "metadata": {},
   "outputs": [],
   "source": [
    "import pandas as pd\n",
    "import matplotlib.pyplot as plt"
   ]
  },
  {
   "cell_type": "code",
   "execution_count": 22,
   "metadata": {},
   "outputs": [
    {
     "data": {
      "text/html": [
       "<div>\n",
       "<style scoped>\n",
       "    .dataframe tbody tr th:only-of-type {\n",
       "        vertical-align: middle;\n",
       "    }\n",
       "\n",
       "    .dataframe tbody tr th {\n",
       "        vertical-align: top;\n",
       "    }\n",
       "\n",
       "    .dataframe thead th {\n",
       "        text-align: right;\n",
       "    }\n",
       "</style>\n",
       "<table border=\"1\" class=\"dataframe\">\n",
       "  <thead>\n",
       "    <tr style=\"text-align: right;\">\n",
       "      <th></th>\n",
       "      <th>Unnamed: 0</th>\n",
       "      <th>_id</th>\n",
       "      <th>排名</th>\n",
       "      <th>标题</th>\n",
       "      <th>作者</th>\n",
       "      <th>综合评分</th>\n",
       "      <th>视频分类</th>\n",
       "      <th>视频标签</th>\n",
       "      <th>播放量</th>\n",
       "      <th>弹幕数</th>\n",
       "      <th>评论</th>\n",
       "      <th>收藏</th>\n",
       "      <th>点赞数</th>\n",
       "      <th>投币数</th>\n",
       "      <th>分享数</th>\n",
       "      <th>up主性别</th>\n",
       "      <th>bilibili个人认证</th>\n",
       "      <th>up主粉丝总数</th>\n",
       "      <th>up主总观看数</th>\n",
       "      <th>up主总获赞数</th>\n",
       "      <th>up主视频数</th>\n",
       "      <th>主分类</th>\n",
       "    </tr>\n",
       "  </thead>\n",
       "  <tbody>\n",
       "    <tr>\n",
       "      <th>0</th>\n",
       "      <td>0</td>\n",
       "      <td>5eba48a9537acd9e3a576b80</td>\n",
       "      <td>1</td>\n",
       "      <td>bilibili献给新一代的演讲《后浪》</td>\n",
       "      <td>哔哩哔哩弹幕网</td>\n",
       "      <td>23454532</td>\n",
       "      <td>日常</td>\n",
       "      <td>何冰,正能量,后浪,五四,青年,年轻人,宣言片,演讲</td>\n",
       "      <td>23564316</td>\n",
       "      <td>220441</td>\n",
       "      <td>52332</td>\n",
       "      <td>825046</td>\n",
       "      <td>1494038</td>\n",
       "      <td>1451631</td>\n",
       "      <td>976070</td>\n",
       "      <td>男</td>\n",
       "      <td>哔哩哔哩弹幕网官方账号</td>\n",
       "      <td>2704115</td>\n",
       "      <td>260555030</td>\n",
       "      <td>26679821</td>\n",
       "      <td>86</td>\n",
       "      <td>全站</td>\n",
       "    </tr>\n",
       "    <tr>\n",
       "      <th>1</th>\n",
       "      <td>1</td>\n",
       "      <td>5eba48aa537acd9e3a576b81</td>\n",
       "      <td>2</td>\n",
       "      <td>【醒醒】中华儿女该起床了</td>\n",
       "      <td>冈部伦太郎·</td>\n",
       "      <td>18430769</td>\n",
       "      <td>日常</td>\n",
       "      <td>罗翔,高考,郑强演讲,正能量,郑强,考研,学习,励志,燃爆,张三,后浪</td>\n",
       "      <td>6210329</td>\n",
       "      <td>77068</td>\n",
       "      <td>24224</td>\n",
       "      <td>734264</td>\n",
       "      <td>963476</td>\n",
       "      <td>876196</td>\n",
       "      <td>149756</td>\n",
       "      <td>保密</td>\n",
       "      <td>NaN</td>\n",
       "      <td>30685</td>\n",
       "      <td>6180099</td>\n",
       "      <td>969708</td>\n",
       "      <td>71</td>\n",
       "      <td>全站</td>\n",
       "    </tr>\n",
       "    <tr>\n",
       "      <th>2</th>\n",
       "      <td>2</td>\n",
       "      <td>5eba48ab537acd9e3a576b82</td>\n",
       "      <td>3</td>\n",
       "      <td>黑人抬棺原版视频</td>\n",
       "      <td>比划比划鬼畜网</td>\n",
       "      <td>14080543</td>\n",
       "      <td>搞笑</td>\n",
       "      <td>万恶之源,鬼畜素材,黑人小哥,黑人,高能,魔性</td>\n",
       "      <td>37612110</td>\n",
       "      <td>320980</td>\n",
       "      <td>38813</td>\n",
       "      <td>766650</td>\n",
       "      <td>1253643</td>\n",
       "      <td>303053</td>\n",
       "      <td>651241</td>\n",
       "      <td>保密</td>\n",
       "      <td>NaN</td>\n",
       "      <td>113373</td>\n",
       "      <td>42111238</td>\n",
       "      <td>1395190</td>\n",
       "      <td>9</td>\n",
       "      <td>全站</td>\n",
       "    </tr>\n",
       "    <tr>\n",
       "      <th>3</th>\n",
       "      <td>3</td>\n",
       "      <td>5eba48ac537acd9e3a576b83</td>\n",
       "      <td>4</td>\n",
       "      <td>恭喜你发现宝藏</td>\n",
       "      <td>努力の巳宝宝</td>\n",
       "      <td>14047465</td>\n",
       "      <td>MAD·AMV</td>\n",
       "      <td>MAD.AMV,天气之子,全能打卡挑战,AMV,极致画质,补帧,纯剪辑,新人向,催泪向,雨水...</td>\n",
       "      <td>4962163</td>\n",
       "      <td>19817</td>\n",
       "      <td>9050</td>\n",
       "      <td>547037</td>\n",
       "      <td>733656</td>\n",
       "      <td>609646</td>\n",
       "      <td>35062</td>\n",
       "      <td>女</td>\n",
       "      <td>NaN</td>\n",
       "      <td>80215</td>\n",
       "      <td>10732492</td>\n",
       "      <td>1283955</td>\n",
       "      <td>70</td>\n",
       "      <td>全站</td>\n",
       "    </tr>\n",
       "    <tr>\n",
       "      <th>4</th>\n",
       "      <td>4</td>\n",
       "      <td>5eba48ae537acd9e3a576b84</td>\n",
       "      <td>5</td>\n",
       "      <td>当你遭遇跟踪！快打开！</td>\n",
       "      <td>蓝书爱喝水</td>\n",
       "      <td>10462656</td>\n",
       "      <td>日常</td>\n",
       "      <td>声优,求助,报警,警察,安全,小视频</td>\n",
       "      <td>2696705</td>\n",
       "      <td>7561</td>\n",
       "      <td>13312</td>\n",
       "      <td>452363</td>\n",
       "      <td>398885</td>\n",
       "      <td>211281</td>\n",
       "      <td>32220</td>\n",
       "      <td>男</td>\n",
       "      <td>NaN</td>\n",
       "      <td>108365</td>\n",
       "      <td>4946188</td>\n",
       "      <td>685294</td>\n",
       "      <td>46</td>\n",
       "      <td>全站</td>\n",
       "    </tr>\n",
       "  </tbody>\n",
       "</table>\n",
       "</div>"
      ],
      "text/plain": [
       "   Unnamed: 0                       _id  排名                    标题       作者  \\\n",
       "0           0  5eba48a9537acd9e3a576b80   1  bilibili献给新一代的演讲《后浪》  哔哩哔哩弹幕网   \n",
       "1           1  5eba48aa537acd9e3a576b81   2          【醒醒】中华儿女该起床了   冈部伦太郎·   \n",
       "2           2  5eba48ab537acd9e3a576b82   3              黑人抬棺原版视频  比划比划鬼畜网   \n",
       "3           3  5eba48ac537acd9e3a576b83   4               恭喜你发现宝藏   努力の巳宝宝   \n",
       "4           4  5eba48ae537acd9e3a576b84   5           当你遭遇跟踪！快打开！    蓝书爱喝水   \n",
       "\n",
       "       综合评分     视频分类                                               视频标签  \\\n",
       "0  23454532       日常                         何冰,正能量,后浪,五四,青年,年轻人,宣言片,演讲   \n",
       "1  18430769       日常                罗翔,高考,郑强演讲,正能量,郑强,考研,学习,励志,燃爆,张三,后浪   \n",
       "2  14080543       搞笑                            万恶之源,鬼畜素材,黑人小哥,黑人,高能,魔性   \n",
       "3  14047465  MAD·AMV  MAD.AMV,天气之子,全能打卡挑战,AMV,极致画质,补帧,纯剪辑,新人向,催泪向,雨水...   \n",
       "4  10462656       日常                                 声优,求助,报警,警察,安全,小视频   \n",
       "\n",
       "        播放量     弹幕数     评论      收藏      点赞数      投币数     分享数 up主性别  \\\n",
       "0  23564316  220441  52332  825046  1494038  1451631  976070     男   \n",
       "1   6210329   77068  24224  734264   963476   876196  149756    保密   \n",
       "2  37612110  320980  38813  766650  1253643   303053  651241    保密   \n",
       "3   4962163   19817   9050  547037   733656   609646   35062     女   \n",
       "4   2696705    7561  13312  452363   398885   211281   32220     男   \n",
       "\n",
       "   bilibili个人认证  up主粉丝总数    up主总观看数   up主总获赞数  up主视频数 主分类  \n",
       "0  哔哩哔哩弹幕网官方账号   2704115  260555030  26679821      86  全站  \n",
       "1           NaN    30685    6180099    969708      71  全站  \n",
       "2           NaN   113373   42111238   1395190       9  全站  \n",
       "3           NaN    80215   10732492   1283955      70  全站  \n",
       "4           NaN   108365    4946188    685294      46  全站  "
      ]
     },
     "execution_count": 22,
     "metadata": {},
     "output_type": "execute_result"
    }
   ],
   "source": [
    "data=pd.read_csv(\"月榜单.csv\")\n",
    "data.head()"
   ]
  },
  {
   "cell_type": "code",
   "execution_count": 23,
   "metadata": {},
   "outputs": [
    {
     "data": {
      "text/plain": [
       "Unnamed: 0       int64\n",
       "_id             object\n",
       "排名               int64\n",
       "标题              object\n",
       "作者              object\n",
       "综合评分             int64\n",
       "视频分类            object\n",
       "视频标签            object\n",
       "播放量              int64\n",
       "弹幕数              int64\n",
       "评论               int64\n",
       "收藏               int64\n",
       "点赞数              int64\n",
       "投币数              int64\n",
       "分享数              int64\n",
       "up主性别           object\n",
       "bilibili个人认证    object\n",
       "up主粉丝总数          int64\n",
       "up主总观看数          int64\n",
       "up主总获赞数          int64\n",
       "up主视频数           int64\n",
       "主分类             object\n",
       "dtype: object"
      ]
     },
     "execution_count": 23,
     "metadata": {},
     "output_type": "execute_result"
    }
   ],
   "source": [
    "data.dtypes"
   ]
  },
  {
   "cell_type": "code",
   "execution_count": 24,
   "metadata": {},
   "outputs": [
    {
     "data": {
      "text/plain": [
       "Unnamed: 0      1300\n",
       "_id             1300\n",
       "排名               100\n",
       "标题              1200\n",
       "作者              1155\n",
       "综合评分            1201\n",
       "视频分类              59\n",
       "视频标签            1225\n",
       "播放量             1300\n",
       "弹幕数             1238\n",
       "评论              1156\n",
       "收藏              1282\n",
       "点赞数             1293\n",
       "投币数             1280\n",
       "分享数             1255\n",
       "up主性别              3\n",
       "bilibili个人认证     158\n",
       "up主粉丝总数         1277\n",
       "up主总观看数         1157\n",
       "up主总获赞数         1297\n",
       "up主视频数            98\n",
       "主分类               13\n",
       "dtype: int64"
      ]
     },
     "execution_count": 24,
     "metadata": {},
     "output_type": "execute_result"
    }
   ],
   "source": [
    "data.nunique()"
   ]
  },
  {
   "cell_type": "markdown",
   "metadata": {},
   "source": [
    "#### 由于全站统计的前100名也包含在各分区的前100名内，为了避免重复，在以下分析中不考虑全站部分的数据"
   ]
  },
  {
   "cell_type": "code",
   "execution_count": 25,
   "metadata": {},
   "outputs": [],
   "source": [
    "data_1=data.drop(data[data[\"主分类\"]==\"全站\"].index)"
   ]
  },
  {
   "cell_type": "code",
   "execution_count": 26,
   "metadata": {},
   "outputs": [
    {
     "data": {
      "text/html": [
       "<div>\n",
       "<style scoped>\n",
       "    .dataframe tbody tr th:only-of-type {\n",
       "        vertical-align: middle;\n",
       "    }\n",
       "\n",
       "    .dataframe tbody tr th {\n",
       "        vertical-align: top;\n",
       "    }\n",
       "\n",
       "    .dataframe thead th {\n",
       "        text-align: right;\n",
       "    }\n",
       "</style>\n",
       "<table border=\"1\" class=\"dataframe\">\n",
       "  <thead>\n",
       "    <tr style=\"text-align: right;\">\n",
       "      <th></th>\n",
       "      <th>Unnamed: 0</th>\n",
       "      <th>_id</th>\n",
       "      <th>排名</th>\n",
       "      <th>标题</th>\n",
       "      <th>作者</th>\n",
       "      <th>综合评分</th>\n",
       "      <th>视频分类</th>\n",
       "      <th>视频标签</th>\n",
       "      <th>播放量</th>\n",
       "      <th>弹幕数</th>\n",
       "      <th>评论</th>\n",
       "      <th>收藏</th>\n",
       "      <th>点赞数</th>\n",
       "      <th>投币数</th>\n",
       "      <th>分享数</th>\n",
       "      <th>up主性别</th>\n",
       "      <th>bilibili个人认证</th>\n",
       "      <th>up主粉丝总数</th>\n",
       "      <th>up主总观看数</th>\n",
       "      <th>up主总获赞数</th>\n",
       "      <th>up主视频数</th>\n",
       "      <th>主分类</th>\n",
       "    </tr>\n",
       "  </thead>\n",
       "  <tbody>\n",
       "    <tr>\n",
       "      <th>100</th>\n",
       "      <td>100</td>\n",
       "      <td>5eba4960059f295f561ce90c</td>\n",
       "      <td>1</td>\n",
       "      <td>恭喜你发现宝藏</td>\n",
       "      <td>努力の巳宝宝</td>\n",
       "      <td>14047465</td>\n",
       "      <td>MAD·AMV</td>\n",
       "      <td>MAD.AMV,天气之子,全能打卡挑战,AMV,极致画质,补帧,纯剪辑,新人向,催泪向,雨水...</td>\n",
       "      <td>4962217</td>\n",
       "      <td>19817</td>\n",
       "      <td>9050</td>\n",
       "      <td>547040</td>\n",
       "      <td>733664</td>\n",
       "      <td>609655</td>\n",
       "      <td>35062</td>\n",
       "      <td>女</td>\n",
       "      <td>NaN</td>\n",
       "      <td>80215</td>\n",
       "      <td>10732492</td>\n",
       "      <td>1283968</td>\n",
       "      <td>70</td>\n",
       "      <td>动画</td>\n",
       "    </tr>\n",
       "    <tr>\n",
       "      <th>101</th>\n",
       "      <td>101</td>\n",
       "      <td>5eba4961059f295f561ce90d</td>\n",
       "      <td>2</td>\n",
       "      <td>每天一遍  童年再见</td>\n",
       "      <td>优柔寡断胡英俊</td>\n",
       "      <td>7670824</td>\n",
       "      <td>特摄</td>\n",
       "      <td>特摄,迪迦奥特曼,bilibili新星计划,奥特曼,毁童年,怀旧</td>\n",
       "      <td>10383479</td>\n",
       "      <td>52235</td>\n",
       "      <td>8413</td>\n",
       "      <td>261737</td>\n",
       "      <td>613548</td>\n",
       "      <td>248515</td>\n",
       "      <td>148948</td>\n",
       "      <td>保密</td>\n",
       "      <td>NaN</td>\n",
       "      <td>16921</td>\n",
       "      <td>10959944</td>\n",
       "      <td>644263</td>\n",
       "      <td>15</td>\n",
       "      <td>动画</td>\n",
       "    </tr>\n",
       "    <tr>\n",
       "      <th>102</th>\n",
       "      <td>102</td>\n",
       "      <td>5eba4962059f295f561ce90e</td>\n",
       "      <td>3</td>\n",
       "      <td>“更爱你的人”</td>\n",
       "      <td>始春廿肆</td>\n",
       "      <td>5846265</td>\n",
       "      <td>MAD·AMV</td>\n",
       "      <td>MAD.AMV,MAD,新海诚,全能打卡挑战,声之形,剧情,治愈向</td>\n",
       "      <td>2572750</td>\n",
       "      <td>8137</td>\n",
       "      <td>4646</td>\n",
       "      <td>217585</td>\n",
       "      <td>297444</td>\n",
       "      <td>245647</td>\n",
       "      <td>15421</td>\n",
       "      <td>保密</td>\n",
       "      <td>NaN</td>\n",
       "      <td>18603</td>\n",
       "      <td>2589536</td>\n",
       "      <td>576619</td>\n",
       "      <td>6</td>\n",
       "      <td>动画</td>\n",
       "    </tr>\n",
       "    <tr>\n",
       "      <th>103</th>\n",
       "      <td>103</td>\n",
       "      <td>5eba4963059f295f561ce90f</td>\n",
       "      <td>4</td>\n",
       "      <td>【高燃 拟人】致敬“植物大战僵尸” 49种植物全员拟人！</td>\n",
       "      <td>想学画画的初慕</td>\n",
       "      <td>4609105</td>\n",
       "      <td>短片·手书·配音</td>\n",
       "      <td>童年回忆杀,绘画,手书,植物大战僵尸,bilibili新星计划,拟人,PVZ,板绘,自制,童年</td>\n",
       "      <td>1681170</td>\n",
       "      <td>19955</td>\n",
       "      <td>6702</td>\n",
       "      <td>164007</td>\n",
       "      <td>236637</td>\n",
       "      <td>217840</td>\n",
       "      <td>22726</td>\n",
       "      <td>男</td>\n",
       "      <td>NaN</td>\n",
       "      <td>32984</td>\n",
       "      <td>2184293</td>\n",
       "      <td>293277</td>\n",
       "      <td>7</td>\n",
       "      <td>动画</td>\n",
       "    </tr>\n",
       "    <tr>\n",
       "      <th>104</th>\n",
       "      <td>104</td>\n",
       "      <td>5eba4965059f295f561ce910</td>\n",
       "      <td>5</td>\n",
       "      <td>从B站百大到暗杀名单 从造谣抹黑到无差别举报：全面起底网络黑公关【网络视频发展史：黑公关专题】</td>\n",
       "      <td>低调的帅爷</td>\n",
       "      <td>4076891</td>\n",
       "      <td>综合</td>\n",
       "      <td>动漫杂谈,黑公关,互联网,LEX,MCN,吃瓜,网络,科普</td>\n",
       "      <td>2651915</td>\n",
       "      <td>26226</td>\n",
       "      <td>113373</td>\n",
       "      <td>137765</td>\n",
       "      <td>234469</td>\n",
       "      <td>171360</td>\n",
       "      <td>19879</td>\n",
       "      <td>男</td>\n",
       "      <td>bilibili 知名UP主、高能联盟成员</td>\n",
       "      <td>563223</td>\n",
       "      <td>18350626</td>\n",
       "      <td>1275714</td>\n",
       "      <td>87</td>\n",
       "      <td>动画</td>\n",
       "    </tr>\n",
       "  </tbody>\n",
       "</table>\n",
       "</div>"
      ],
      "text/plain": [
       "     Unnamed: 0                       _id  排名  \\\n",
       "100         100  5eba4960059f295f561ce90c   1   \n",
       "101         101  5eba4961059f295f561ce90d   2   \n",
       "102         102  5eba4962059f295f561ce90e   3   \n",
       "103         103  5eba4963059f295f561ce90f   4   \n",
       "104         104  5eba4965059f295f561ce910   5   \n",
       "\n",
       "                                                  标题       作者      综合评分  \\\n",
       "100                                          恭喜你发现宝藏   努力の巳宝宝  14047465   \n",
       "101                                       每天一遍  童年再见  优柔寡断胡英俊   7670824   \n",
       "102                                          “更爱你的人”     始春廿肆   5846265   \n",
       "103                     【高燃 拟人】致敬“植物大战僵尸” 49种植物全员拟人！  想学画画的初慕   4609105   \n",
       "104  从B站百大到暗杀名单 从造谣抹黑到无差别举报：全面起底网络黑公关【网络视频发展史：黑公关专题】    低调的帅爷   4076891   \n",
       "\n",
       "         视频分类                                               视频标签       播放量  \\\n",
       "100   MAD·AMV  MAD.AMV,天气之子,全能打卡挑战,AMV,极致画质,补帧,纯剪辑,新人向,催泪向,雨水...   4962217   \n",
       "101        特摄                   特摄,迪迦奥特曼,bilibili新星计划,奥特曼,毁童年,怀旧  10383479   \n",
       "102   MAD·AMV                  MAD.AMV,MAD,新海诚,全能打卡挑战,声之形,剧情,治愈向   2572750   \n",
       "103  短片·手书·配音    童年回忆杀,绘画,手书,植物大战僵尸,bilibili新星计划,拟人,PVZ,板绘,自制,童年   1681170   \n",
       "104        综合                      动漫杂谈,黑公关,互联网,LEX,MCN,吃瓜,网络,科普   2651915   \n",
       "\n",
       "       弹幕数      评论      收藏     点赞数     投币数     分享数 up主性别  \\\n",
       "100  19817    9050  547040  733664  609655   35062     女   \n",
       "101  52235    8413  261737  613548  248515  148948    保密   \n",
       "102   8137    4646  217585  297444  245647   15421    保密   \n",
       "103  19955    6702  164007  236637  217840   22726     男   \n",
       "104  26226  113373  137765  234469  171360   19879     男   \n",
       "\n",
       "              bilibili个人认证  up主粉丝总数   up主总观看数  up主总获赞数  up主视频数 主分类  \n",
       "100                    NaN    80215  10732492  1283968      70  动画  \n",
       "101                    NaN    16921  10959944   644263      15  动画  \n",
       "102                    NaN    18603   2589536   576619       6  动画  \n",
       "103                    NaN    32984   2184293   293277       7  动画  \n",
       "104  bilibili 知名UP主、高能联盟成员   563223  18350626  1275714      87  动画  "
      ]
     },
     "execution_count": 26,
     "metadata": {},
     "output_type": "execute_result"
    }
   ],
   "source": [
    "data_1.head()"
   ]
  },
  {
   "cell_type": "markdown",
   "metadata": {},
   "source": [
    "#### 选取播放量和投币数来分别代表视频的热度和up主的收益"
   ]
  },
  {
   "cell_type": "code",
   "execution_count": 27,
   "metadata": {},
   "outputs": [
    {
     "name": "stderr",
     "output_type": "stream",
     "text": [
      "<ipython-input-27-c71093ad20c0>:1: FutureWarning: Indexing with multiple keys (implicitly converted to a tuple of keys) will be deprecated, use a list instead.\n",
      "  data_bofangtoubi=data_1.groupby([\"主分类\"])[\"播放量\",\"投币数\"].sum()\n"
     ]
    },
    {
     "data": {
      "text/html": [
       "<div>\n",
       "<style scoped>\n",
       "    .dataframe tbody tr th:only-of-type {\n",
       "        vertical-align: middle;\n",
       "    }\n",
       "\n",
       "    .dataframe tbody tr th {\n",
       "        vertical-align: top;\n",
       "    }\n",
       "\n",
       "    .dataframe thead th {\n",
       "        text-align: right;\n",
       "    }\n",
       "</style>\n",
       "<table border=\"1\" class=\"dataframe\">\n",
       "  <thead>\n",
       "    <tr style=\"text-align: right;\">\n",
       "      <th></th>\n",
       "      <th>播放量</th>\n",
       "      <th>投币数</th>\n",
       "    </tr>\n",
       "    <tr>\n",
       "      <th>主分类</th>\n",
       "      <th></th>\n",
       "      <th></th>\n",
       "    </tr>\n",
       "  </thead>\n",
       "  <tbody>\n",
       "    <tr>\n",
       "      <th>动画</th>\n",
       "      <td>262166307</td>\n",
       "      <td>17339285</td>\n",
       "    </tr>\n",
       "    <tr>\n",
       "      <th>国创</th>\n",
       "      <td>76514532</td>\n",
       "      <td>2710394</td>\n",
       "    </tr>\n",
       "    <tr>\n",
       "      <th>娱乐</th>\n",
       "      <td>146559140</td>\n",
       "      <td>1773603</td>\n",
       "    </tr>\n",
       "    <tr>\n",
       "      <th>影视</th>\n",
       "      <td>197026631</td>\n",
       "      <td>8610814</td>\n",
       "    </tr>\n",
       "    <tr>\n",
       "      <th>数码</th>\n",
       "      <td>59442708</td>\n",
       "      <td>2284827</td>\n",
       "    </tr>\n",
       "    <tr>\n",
       "      <th>时尚</th>\n",
       "      <td>273780329</td>\n",
       "      <td>3924113</td>\n",
       "    </tr>\n",
       "    <tr>\n",
       "      <th>游戏</th>\n",
       "      <td>209198981</td>\n",
       "      <td>10580921</td>\n",
       "    </tr>\n",
       "    <tr>\n",
       "      <th>生活</th>\n",
       "      <td>358708154</td>\n",
       "      <td>14706433</td>\n",
       "    </tr>\n",
       "    <tr>\n",
       "      <th>科技</th>\n",
       "      <td>220231202</td>\n",
       "      <td>9375761</td>\n",
       "    </tr>\n",
       "    <tr>\n",
       "      <th>舞蹈</th>\n",
       "      <td>168551995</td>\n",
       "      <td>2936633</td>\n",
       "    </tr>\n",
       "    <tr>\n",
       "      <th>音乐</th>\n",
       "      <td>225759002</td>\n",
       "      <td>11853084</td>\n",
       "    </tr>\n",
       "    <tr>\n",
       "      <th>鬼畜</th>\n",
       "      <td>404305642</td>\n",
       "      <td>16307317</td>\n",
       "    </tr>\n",
       "  </tbody>\n",
       "</table>\n",
       "</div>"
      ],
      "text/plain": [
       "           播放量       投币数\n",
       "主分类                     \n",
       "动画   262166307  17339285\n",
       "国创    76514532   2710394\n",
       "娱乐   146559140   1773603\n",
       "影视   197026631   8610814\n",
       "数码    59442708   2284827\n",
       "时尚   273780329   3924113\n",
       "游戏   209198981  10580921\n",
       "生活   358708154  14706433\n",
       "科技   220231202   9375761\n",
       "舞蹈   168551995   2936633\n",
       "音乐   225759002  11853084\n",
       "鬼畜   404305642  16307317"
      ]
     },
     "execution_count": 27,
     "metadata": {},
     "output_type": "execute_result"
    }
   ],
   "source": [
    "data_bofangtoubi=data_1.groupby([\"主分类\"])[\"播放量\",\"投币数\"].sum()\n",
    "data_bofangtoubi"
   ]
  },
  {
   "cell_type": "code",
   "execution_count": 28,
   "metadata": {},
   "outputs": [
    {
     "data": {
      "image/png": "[encoded data removed]",
      "text/plain": [
       "<Figure size 1728x1152 with 1 Axes>"
      ]
     },
     "metadata": {
      "needs_background": "light"
     },
     "output_type": "display_data"
    }
   ],
   "source": [
    "plt.figure(figsize = (24,16))\n",
    "plt.rcParams['font.sans-serif']=['SimHei']\n",
    "plt.barh(data_bofangtoubi.index,data_bofangtoubi[\"播放量\"])\n",
    "plt.xticks(fontsize=20)\n",
    "plt.yticks(fontsize=20)\n",
    "plt.title(\"各分区总播放量\",fontsize= 30)\n",
    "plt.show()"
   ]
  },
  {
   "cell_type": "code",
   "execution_count": 29,
   "metadata": {},
   "outputs": [
    {
     "data": {
      "image/png": "[encoded data removed]",
      "text/plain": [
       "<Figure size 1728x1152 with 1 Axes>"
      ]
     },
     "metadata": {
      "needs_background": "light"
     },
     "output_type": "display_data"
    }
   ],
   "source": [
    "plt.figure(figsize = (24,16))\n",
    "plt.rcParams['font.sans-serif']=['SimHei']\n",
    "plt.barh(data_bofangtoubi.index,data_bofangtoubi[\"投币数\"])\n",
    "plt.xticks(fontsize=20)\n",
    "plt.yticks(fontsize=20)\n",
    "plt.title(\"各分区总投币数\",fontsize=30)\n",
    "plt.show()"
   ]
  },
  {
   "cell_type": "markdown",
   "metadata": {},
   "source": [
    "#### 鬼畜区的总播放量最多，而动画区的投币总数最多，引入转化率作为衡量视频热度转化为up主收益能力的高低"
   ]
  },
  {
   "cell_type": "code",
   "execution_count": 30,
   "metadata": {},
   "outputs": [
    {
     "data": {
      "text/html": [
       "<div>\n",
       "<style scoped>\n",
       "    .dataframe tbody tr th:only-of-type {\n",
       "        vertical-align: middle;\n",
       "    }\n",
       "\n",
       "    .dataframe tbody tr th {\n",
       "        vertical-align: top;\n",
       "    }\n",
       "\n",
       "    .dataframe thead th {\n",
       "        text-align: right;\n",
       "    }\n",
       "</style>\n",
       "<table border=\"1\" class=\"dataframe\">\n",
       "  <thead>\n",
       "    <tr style=\"text-align: right;\">\n",
       "      <th></th>\n",
       "      <th>播放量</th>\n",
       "      <th>投币数</th>\n",
       "      <th>转化率</th>\n",
       "    </tr>\n",
       "    <tr>\n",
       "      <th>主分类</th>\n",
       "      <th></th>\n",
       "      <th></th>\n",
       "      <th></th>\n",
       "    </tr>\n",
       "  </thead>\n",
       "  <tbody>\n",
       "    <tr>\n",
       "      <th>动画</th>\n",
       "      <td>262166307</td>\n",
       "      <td>17339285</td>\n",
       "      <td>0.066138</td>\n",
       "    </tr>\n",
       "    <tr>\n",
       "      <th>国创</th>\n",
       "      <td>76514532</td>\n",
       "      <td>2710394</td>\n",
       "      <td>0.035423</td>\n",
       "    </tr>\n",
       "    <tr>\n",
       "      <th>娱乐</th>\n",
       "      <td>146559140</td>\n",
       "      <td>1773603</td>\n",
       "      <td>0.012102</td>\n",
       "    </tr>\n",
       "    <tr>\n",
       "      <th>影视</th>\n",
       "      <td>197026631</td>\n",
       "      <td>8610814</td>\n",
       "      <td>0.043704</td>\n",
       "    </tr>\n",
       "    <tr>\n",
       "      <th>数码</th>\n",
       "      <td>59442708</td>\n",
       "      <td>2284827</td>\n",
       "      <td>0.038437</td>\n",
       "    </tr>\n",
       "    <tr>\n",
       "      <th>时尚</th>\n",
       "      <td>273780329</td>\n",
       "      <td>3924113</td>\n",
       "      <td>0.014333</td>\n",
       "    </tr>\n",
       "    <tr>\n",
       "      <th>游戏</th>\n",
       "      <td>209198981</td>\n",
       "      <td>10580921</td>\n",
       "      <td>0.050578</td>\n",
       "    </tr>\n",
       "    <tr>\n",
       "      <th>生活</th>\n",
       "      <td>358708154</td>\n",
       "      <td>14706433</td>\n",
       "      <td>0.040998</td>\n",
       "    </tr>\n",
       "    <tr>\n",
       "      <th>科技</th>\n",
       "      <td>220231202</td>\n",
       "      <td>9375761</td>\n",
       "      <td>0.042572</td>\n",
       "    </tr>\n",
       "    <tr>\n",
       "      <th>舞蹈</th>\n",
       "      <td>168551995</td>\n",
       "      <td>2936633</td>\n",
       "      <td>0.017423</td>\n",
       "    </tr>\n",
       "    <tr>\n",
       "      <th>音乐</th>\n",
       "      <td>225759002</td>\n",
       "      <td>11853084</td>\n",
       "      <td>0.052503</td>\n",
       "    </tr>\n",
       "    <tr>\n",
       "      <th>鬼畜</th>\n",
       "      <td>404305642</td>\n",
       "      <td>16307317</td>\n",
       "      <td>0.040334</td>\n",
       "    </tr>\n",
       "  </tbody>\n",
       "</table>\n",
       "</div>"
      ],
      "text/plain": [
       "           播放量       投币数       转化率\n",
       "主分类                               \n",
       "动画   262166307  17339285  0.066138\n",
       "国创    76514532   2710394  0.035423\n",
       "娱乐   146559140   1773603  0.012102\n",
       "影视   197026631   8610814  0.043704\n",
       "数码    59442708   2284827  0.038437\n",
       "时尚   273780329   3924113  0.014333\n",
       "游戏   209198981  10580921  0.050578\n",
       "生活   358708154  14706433  0.040998\n",
       "科技   220231202   9375761  0.042572\n",
       "舞蹈   168551995   2936633  0.017423\n",
       "音乐   225759002  11853084  0.052503\n",
       "鬼畜   404305642  16307317  0.040334"
      ]
     },
     "execution_count": 30,
     "metadata": {},
     "output_type": "execute_result"
    }
   ],
   "source": [
    "data_bofangtoubi[\"转化率\"]=data_bofangtoubi[\"投币数\"]/data_bofangtoubi[\"播放量\"]\n",
    "data_bofangtoubi"
   ]
  },
  {
   "cell_type": "code",
   "execution_count": 31,
   "metadata": {},
   "outputs": [
    {
     "data": {
      "image/png": "[encoded data removed]",
      "text/plain": [
       "<Figure size 1440x936 with 1 Axes>"
      ]
     },
     "metadata": {
      "needs_background": "light"
     },
     "output_type": "display_data"
    }
   ],
   "source": [
    "plt.figure(figsize = (20,13))\n",
    "plt.rcParams['font.sans-serif']=['SimHei']\n",
    "plt.bar(data_bofangtoubi.index,data_bofangtoubi[\"转化率\"])\n",
    "plt.xticks(fontsize=20)\n",
    "plt.yticks(fontsize=20)\n",
    "plt.title(\"各分区转化率\",fontsize=30)\n",
    "plt.show()"
   ]
  },
  {
   "cell_type": "markdown",
   "metadata": {},
   "source": [
    "# Part 2"
   ]
  },
  {
   "cell_type": "code",
   "execution_count": 14,
   "metadata": {},
   "outputs": [],
   "source": [
    "import pandas as pd\n",
    "import matplotlib\n",
    "pd.set_option('display.max_columns', None)\n",
    "import numpy as np\n",
    "import re\n",
    "import matplotlib.pyplot as plt\n",
    "%matplotlib inline\n",
    "from sklearn import datasets, linear_model\n",
    "from sklearn.metrics import mean_squared_error, r2_score\n",
    "from regressors import stats\n",
    "from collections import Counter\n",
    "import statsmodels.api as sm\n",
    "from sklearn.model_selection import train_test_split\n",
    "from sklearn.neighbors import KNeighborsClassifier\n",
    "from sklearn.linear_model import LogisticRegression\n",
    "from sklearn.linear_model import LinearRegression\n",
    "from sklearn.preprocessing import PolynomialFeatures\n",
    "from sklearn.model_selection import cross_val_score"
   ]
  },
  {
   "cell_type": "code",
   "execution_count": 32,
   "metadata": {},
   "outputs": [
    {
     "data": {
      "text/html": [
       "<div>\n",
       "<style scoped>\n",
       "    .dataframe tbody tr th:only-of-type {\n",
       "        vertical-align: middle;\n",
       "    }\n",
       "\n",
       "    .dataframe tbody tr th {\n",
       "        vertical-align: top;\n",
       "    }\n",
       "\n",
       "    .dataframe thead th {\n",
       "        text-align: right;\n",
       "    }\n",
       "</style>\n",
       "<table border=\"1\" class=\"dataframe\">\n",
       "  <thead>\n",
       "    <tr style=\"text-align: right;\">\n",
       "      <th></th>\n",
       "      <th>Unnamed: 0</th>\n",
       "      <th>_id</th>\n",
       "      <th>排名</th>\n",
       "      <th>标题</th>\n",
       "      <th>作者</th>\n",
       "      <th>综合评分</th>\n",
       "      <th>视频分类</th>\n",
       "      <th>视频标签</th>\n",
       "      <th>播放量</th>\n",
       "      <th>弹幕数</th>\n",
       "      <th>评论</th>\n",
       "      <th>收藏</th>\n",
       "      <th>点赞数</th>\n",
       "      <th>投币数</th>\n",
       "      <th>分享数</th>\n",
       "      <th>up主性别</th>\n",
       "      <th>bilibili个人认证</th>\n",
       "      <th>up主粉丝总数</th>\n",
       "      <th>up主总观看数</th>\n",
       "      <th>up主总获赞数</th>\n",
       "      <th>up主视频数</th>\n",
       "      <th>主分类</th>\n",
       "    </tr>\n",
       "  </thead>\n",
       "  <tbody>\n",
       "    <tr>\n",
       "      <th>0</th>\n",
       "      <td>0</td>\n",
       "      <td>5eba48a9537acd9e3a576b80</td>\n",
       "      <td>1</td>\n",
       "      <td>bilibili献给新一代的演讲《后浪》</td>\n",
       "      <td>哔哩哔哩弹幕网</td>\n",
       "      <td>23454532</td>\n",
       "      <td>日常</td>\n",
       "      <td>何冰,正能量,后浪,五四,青年,年轻人,宣言片,演讲</td>\n",
       "      <td>23564316</td>\n",
       "      <td>220441</td>\n",
       "      <td>52332</td>\n",
       "      <td>825046</td>\n",
       "      <td>1494038</td>\n",
       "      <td>1451631</td>\n",
       "      <td>976070</td>\n",
       "      <td>男</td>\n",
       "      <td>哔哩哔哩弹幕网官方账号</td>\n",
       "      <td>2704115</td>\n",
       "      <td>260555030</td>\n",
       "      <td>26679821</td>\n",
       "      <td>86</td>\n",
       "      <td>全站</td>\n",
       "    </tr>\n",
       "    <tr>\n",
       "      <th>1</th>\n",
       "      <td>1</td>\n",
       "      <td>5eba48aa537acd9e3a576b81</td>\n",
       "      <td>2</td>\n",
       "      <td>【醒醒】中华儿女该起床了</td>\n",
       "      <td>冈部伦太郎·</td>\n",
       "      <td>18430769</td>\n",
       "      <td>日常</td>\n",
       "      <td>罗翔,高考,郑强演讲,正能量,郑强,考研,学习,励志,燃爆,张三,后浪</td>\n",
       "      <td>6210329</td>\n",
       "      <td>77068</td>\n",
       "      <td>24224</td>\n",
       "      <td>734264</td>\n",
       "      <td>963476</td>\n",
       "      <td>876196</td>\n",
       "      <td>149756</td>\n",
       "      <td>保密</td>\n",
       "      <td>NaN</td>\n",
       "      <td>30685</td>\n",
       "      <td>6180099</td>\n",
       "      <td>969708</td>\n",
       "      <td>71</td>\n",
       "      <td>全站</td>\n",
       "    </tr>\n",
       "    <tr>\n",
       "      <th>2</th>\n",
       "      <td>2</td>\n",
       "      <td>5eba48ab537acd9e3a576b82</td>\n",
       "      <td>3</td>\n",
       "      <td>黑人抬棺原版视频</td>\n",
       "      <td>比划比划鬼畜网</td>\n",
       "      <td>14080543</td>\n",
       "      <td>搞笑</td>\n",
       "      <td>万恶之源,鬼畜素材,黑人小哥,黑人,高能,魔性</td>\n",
       "      <td>37612110</td>\n",
       "      <td>320980</td>\n",
       "      <td>38813</td>\n",
       "      <td>766650</td>\n",
       "      <td>1253643</td>\n",
       "      <td>303053</td>\n",
       "      <td>651241</td>\n",
       "      <td>保密</td>\n",
       "      <td>NaN</td>\n",
       "      <td>113373</td>\n",
       "      <td>42111238</td>\n",
       "      <td>1395190</td>\n",
       "      <td>9</td>\n",
       "      <td>全站</td>\n",
       "    </tr>\n",
       "    <tr>\n",
       "      <th>3</th>\n",
       "      <td>3</td>\n",
       "      <td>5eba48ac537acd9e3a576b83</td>\n",
       "      <td>4</td>\n",
       "      <td>恭喜你发现宝藏</td>\n",
       "      <td>努力の巳宝宝</td>\n",
       "      <td>14047465</td>\n",
       "      <td>MAD·AMV</td>\n",
       "      <td>MAD.AMV,天气之子,全能打卡挑战,AMV,极致画质,补帧,纯剪辑,新人向,催泪向,雨水...</td>\n",
       "      <td>4962163</td>\n",
       "      <td>19817</td>\n",
       "      <td>9050</td>\n",
       "      <td>547037</td>\n",
       "      <td>733656</td>\n",
       "      <td>609646</td>\n",
       "      <td>35062</td>\n",
       "      <td>女</td>\n",
       "      <td>NaN</td>\n",
       "      <td>80215</td>\n",
       "      <td>10732492</td>\n",
       "      <td>1283955</td>\n",
       "      <td>70</td>\n",
       "      <td>全站</td>\n",
       "    </tr>\n",
       "    <tr>\n",
       "      <th>4</th>\n",
       "      <td>4</td>\n",
       "      <td>5eba48ae537acd9e3a576b84</td>\n",
       "      <td>5</td>\n",
       "      <td>当你遭遇跟踪！快打开！</td>\n",
       "      <td>蓝书爱喝水</td>\n",
       "      <td>10462656</td>\n",
       "      <td>日常</td>\n",
       "      <td>声优,求助,报警,警察,安全,小视频</td>\n",
       "      <td>2696705</td>\n",
       "      <td>7561</td>\n",
       "      <td>13312</td>\n",
       "      <td>452363</td>\n",
       "      <td>398885</td>\n",
       "      <td>211281</td>\n",
       "      <td>32220</td>\n",
       "      <td>男</td>\n",
       "      <td>NaN</td>\n",
       "      <td>108365</td>\n",
       "      <td>4946188</td>\n",
       "      <td>685294</td>\n",
       "      <td>46</td>\n",
       "      <td>全站</td>\n",
       "    </tr>\n",
       "  </tbody>\n",
       "</table>\n",
       "</div>"
      ],
      "text/plain": [
       "   Unnamed: 0                       _id  排名                    标题       作者  \\\n",
       "0           0  5eba48a9537acd9e3a576b80   1  bilibili献给新一代的演讲《后浪》  哔哩哔哩弹幕网   \n",
       "1           1  5eba48aa537acd9e3a576b81   2          【醒醒】中华儿女该起床了   冈部伦太郎·   \n",
       "2           2  5eba48ab537acd9e3a576b82   3              黑人抬棺原版视频  比划比划鬼畜网   \n",
       "3           3  5eba48ac537acd9e3a576b83   4               恭喜你发现宝藏   努力の巳宝宝   \n",
       "4           4  5eba48ae537acd9e3a576b84   5           当你遭遇跟踪！快打开！    蓝书爱喝水   \n",
       "\n",
       "       综合评分     视频分类                                               视频标签  \\\n",
       "0  23454532       日常                         何冰,正能量,后浪,五四,青年,年轻人,宣言片,演讲   \n",
       "1  18430769       日常                罗翔,高考,郑强演讲,正能量,郑强,考研,学习,励志,燃爆,张三,后浪   \n",
       "2  14080543       搞笑                            万恶之源,鬼畜素材,黑人小哥,黑人,高能,魔性   \n",
       "3  14047465  MAD·AMV  MAD.AMV,天气之子,全能打卡挑战,AMV,极致画质,补帧,纯剪辑,新人向,催泪向,雨水...   \n",
       "4  10462656       日常                                 声优,求助,报警,警察,安全,小视频   \n",
       "\n",
       "        播放量     弹幕数     评论      收藏      点赞数      投币数     分享数 up主性别  \\\n",
       "0  23564316  220441  52332  825046  1494038  1451631  976070     男   \n",
       "1   6210329   77068  24224  734264   963476   876196  149756    保密   \n",
       "2  37612110  320980  38813  766650  1253643   303053  651241    保密   \n",
       "3   4962163   19817   9050  547037   733656   609646   35062     女   \n",
       "4   2696705    7561  13312  452363   398885   211281   32220     男   \n",
       "\n",
       "   bilibili个人认证  up主粉丝总数    up主总观看数   up主总获赞数  up主视频数 主分类  \n",
       "0  哔哩哔哩弹幕网官方账号   2704115  260555030  26679821      86  全站  \n",
       "1           NaN    30685    6180099    969708      71  全站  \n",
       "2           NaN   113373   42111238   1395190       9  全站  \n",
       "3           NaN    80215   10732492   1283955      70  全站  \n",
       "4           NaN   108365    4946188    685294      46  全站  "
      ]
     },
     "execution_count": 32,
     "metadata": {},
     "output_type": "execute_result"
    }
   ],
   "source": [
    "bilibili = data\n",
    "bilibili.head()"
   ]
  },
  {
   "cell_type": "code",
   "execution_count": 33,
   "metadata": {},
   "outputs": [],
   "source": [
    "bilibili['投币率']=bilibili['投币数']/bilibili['播放量']\n",
    "bilibili['标题长度']=bilibili['标题'].str.len()\n",
    "bilibili['标签长度']=bilibili['视频标签'].str.len()"
   ]
  },
  {
   "cell_type": "markdown",
   "metadata": {},
   "source": [
    "## Model 1 - 线性回归：标题长度、标签长度、弹幕数"
   ]
  },
  {
   "cell_type": "code",
   "execution_count": 34,
   "metadata": {},
   "outputs": [
    {
     "data": {
      "text/html": [
       "<div>\n",
       "<style scoped>\n",
       "    .dataframe tbody tr th:only-of-type {\n",
       "        vertical-align: middle;\n",
       "    }\n",
       "\n",
       "    .dataframe tbody tr th {\n",
       "        vertical-align: top;\n",
       "    }\n",
       "\n",
       "    .dataframe thead th {\n",
       "        text-align: right;\n",
       "    }\n",
       "</style>\n",
       "<table border=\"1\" class=\"dataframe\">\n",
       "  <thead>\n",
       "    <tr style=\"text-align: right;\">\n",
       "      <th></th>\n",
       "      <th>标题长度</th>\n",
       "      <th>标签长度</th>\n",
       "      <th>投币率</th>\n",
       "      <th>弹幕数</th>\n",
       "    </tr>\n",
       "  </thead>\n",
       "  <tbody>\n",
       "    <tr>\n",
       "      <th>0</th>\n",
       "      <td>20</td>\n",
       "      <td>26</td>\n",
       "      <td>0.061603</td>\n",
       "      <td>220441</td>\n",
       "    </tr>\n",
       "    <tr>\n",
       "      <th>1</th>\n",
       "      <td>12</td>\n",
       "      <td>35</td>\n",
       "      <td>0.141087</td>\n",
       "      <td>77068</td>\n",
       "    </tr>\n",
       "    <tr>\n",
       "      <th>2</th>\n",
       "      <td>8</td>\n",
       "      <td>23</td>\n",
       "      <td>0.008057</td>\n",
       "      <td>320980</td>\n",
       "    </tr>\n",
       "    <tr>\n",
       "      <th>3</th>\n",
       "      <td>7</td>\n",
       "      <td>51</td>\n",
       "      <td>0.122859</td>\n",
       "      <td>19817</td>\n",
       "    </tr>\n",
       "    <tr>\n",
       "      <th>4</th>\n",
       "      <td>11</td>\n",
       "      <td>18</td>\n",
       "      <td>0.078348</td>\n",
       "      <td>7561</td>\n",
       "    </tr>\n",
       "  </tbody>\n",
       "</table>\n",
       "</div>"
      ],
      "text/plain": [
       "   标题长度  标签长度       投币率     弹幕数\n",
       "0    20    26  0.061603  220441\n",
       "1    12    35  0.141087   77068\n",
       "2     8    23  0.008057  320980\n",
       "3     7    51  0.122859   19817\n",
       "4    11    18  0.078348    7561"
      ]
     },
     "execution_count": 34,
     "metadata": {},
     "output_type": "execute_result"
    }
   ],
   "source": [
    "bilibili_1=bilibili[[ '标题长度','标签长度','投币率', '弹幕数']]\n",
    "bilibili_1.head()"
   ]
  },
  {
   "cell_type": "code",
   "execution_count": 35,
   "metadata": {},
   "outputs": [
    {
     "name": "stdout",
     "output_type": "stream",
     "text": [
      "[[20.]\n",
      " [12.]\n",
      " [ 8.]\n",
      " ...\n",
      " [30.]\n",
      " [24.]\n",
      " [23.]]\n",
      "[[26.]\n",
      " [35.]\n",
      " [23.]\n",
      " ...\n",
      " [61.]\n",
      " [ 5.]\n",
      " [50.]]\n",
      "[[220441.]\n",
      " [ 77068.]\n",
      " [320980.]\n",
      " ...\n",
      " [  3421.]\n",
      " [166122.]\n",
      " [  4130.]]\n",
      "[[0.06160293]\n",
      " [0.14108689]\n",
      " [0.00805733]\n",
      " ...\n",
      " [0.08083784]\n",
      " [0.02243554]\n",
      " [0.04929422]]\n"
     ]
    }
   ],
   "source": [
    "dataset1 = np.array(bilibili_1)\n",
    "coins_rate = dataset1[:,2].reshape(-1,1)\n",
    "title_len = dataset1[:,0].reshape(-1,1)\n",
    "tag_len = dataset1[:,1].reshape(-1,1)\n",
    "bullet = dataset1[:,3].reshape(-1,1)\n",
    "print(title_len,tag_len,bullet,coins_rate,sep='\\n')"
   ]
  },
  {
   "cell_type": "code",
   "execution_count": 36,
   "metadata": {},
   "outputs": [
    {
     "name": "stdout",
     "output_type": "stream",
     "text": [
      "                            OLS Regression Results                            \n",
      "==============================================================================\n",
      "Dep. Variable:                    投币率   R-squared:                       0.038\n",
      "Model:                            OLS   Adj. R-squared:                  0.036\n",
      "Method:                 Least Squares   F-statistic:                     17.25\n",
      "Date:                Sat, 21 Nov 2020   Prob (F-statistic):           5.48e-11\n",
      "Time:                        17:14:19   Log-Likelihood:                 2293.6\n",
      "No. Observations:                1300   AIC:                            -4579.\n",
      "Df Residuals:                    1296   BIC:                            -4558.\n",
      "Df Model:                           3                                         \n",
      "Covariance Type:            nonrobust                                         \n",
      "==============================================================================\n",
      "                 coef    std err          t      P>|t|      [0.025      0.975]\n",
      "------------------------------------------------------------------------------\n",
      "const          0.0293      0.004      7.993      0.000       0.022       0.037\n",
      "标题长度          -0.0002   9.55e-05     -2.453      0.014      -0.000   -4.69e-05\n",
      "标签长度           0.0006    8.3e-05      6.851      0.000       0.000       0.001\n",
      "弹幕数         1.817e-08   1.51e-08      1.201      0.230   -1.15e-08    4.78e-08\n",
      "==============================================================================\n",
      "Omnibus:                      466.420   Durbin-Watson:                   1.629\n",
      "Prob(Omnibus):                  0.000   Jarque-Bera (JB):             1687.471\n",
      "Skew:                           1.741   Prob(JB):                         0.00\n",
      "Kurtosis:                       7.361   Cond. No.                     2.55e+05\n",
      "==============================================================================\n",
      "\n",
      "Warnings:\n",
      "[1] Standard Errors assume that the covariance matrix of the errors is correctly specified.\n",
      "[2] The condition number is large, 2.55e+05. This might indicate that there are\n",
      "strong multicollinearity or other numerical problems.\n"
     ]
    }
   ],
   "source": [
    "y = bilibili_1['投币率']\n",
    "X1 = bilibili_1.drop(columns='投币率')\n",
    "X1 = sm.add_constant(X1)\n",
    "reg1 = sm.OLS(y, X1).fit()\n",
    "print(reg1.summary())"
   ]
  },
  {
   "cell_type": "code",
   "execution_count": 37,
   "metadata": {},
   "outputs": [
    {
     "name": "stdout",
     "output_type": "stream",
     "text": [
      "R squared: -0.0002\n",
      "R squared: -0.0078\n",
      "R squared: -0.2069\n"
     ]
    }
   ],
   "source": [
    "regr = linear_model.LinearRegression()\n",
    "regr.fit(bullet,coins_rate)\n",
    "cr = regr.predict(coins_rate)\n",
    "print('R squared: %.4f' % r2_score(coins_rate, cr))\n",
    "regr = linear_model.LinearRegression()\n",
    "regr.fit(title_len,coins_rate)\n",
    "cr = regr.predict(coins_rate)\n",
    "print('R squared: %.4f' % r2_score(coins_rate, cr))\n",
    "regr = linear_model.LinearRegression()\n",
    "regr.fit(tag_len,coins_rate)\n",
    "cr = regr.predict(coins_rate)\n",
    "print('R squared: %.4f' % r2_score(coins_rate, cr))"
   ]
  },
  {
   "cell_type": "markdown",
   "metadata": {},
   "source": [
    "## Model 2 - KNN预测投币率"
   ]
  },
  {
   "cell_type": "markdown",
   "metadata": {},
   "source": [
    "#### 计算出平均投币率"
   ]
  },
  {
   "cell_type": "code",
   "execution_count": 38,
   "metadata": {},
   "outputs": [
    {
     "data": {
      "text/plain": [
       "0.04420525782711427"
      ]
     },
     "execution_count": 38,
     "metadata": {},
     "output_type": "execute_result"
    }
   ],
   "source": [
    "list_coins=bilibili['投币率']\n",
    "avg_coins=np.mean(list_coins)\n",
    "avg_coins"
   ]
  },
  {
   "cell_type": "markdown",
   "metadata": {},
   "source": [
    "#### 将投币率大于平均值的赋值1，小于的赋值0"
   ]
  },
  {
   "cell_type": "code",
   "execution_count": 39,
   "metadata": {},
   "outputs": [],
   "source": [
    "bilibili['avg_coins']=bilibili['投币率']>avg_coins"
   ]
  },
  {
   "cell_type": "code",
   "execution_count": 40,
   "metadata": {},
   "outputs": [
    {
     "data": {
      "text/plain": [
       "0                              何冰,正能量,后浪,五四,青年,年轻人,宣言片,演讲\n",
       "1                     罗翔,高考,郑强演讲,正能量,郑强,考研,学习,励志,燃爆,张三,后浪\n",
       "2                                 万恶之源,鬼畜素材,黑人小哥,黑人,高能,魔性\n",
       "3       MAD.AMV,天气之子,全能打卡挑战,AMV,极致画质,补帧,纯剪辑,新人向,催泪向,雨水...\n",
       "4                                      声优,求助,报警,警察,安全,小视频\n",
       "                              ...                        \n",
       "1295                  鬼畜,卢本伟,五五开,得得得,桃花朵朵开,赌怪,鬼畜调教,斗地主,搞笑\n",
       "1296                             鬼畜,徐大虾,徐大虾咯,自制,花园宝宝,玛卡巴卡\n",
       "1297    鬼畜,bilibili新星计划,人力VOCALOID,奥观海,特朗普川普,洗脑,特朗普,川建...\n",
       "1298                                                鬼畜,小米\n",
       "1299    鬼畜,蔡徐坤,岛市老八,黄绿合战5th-绿队应援,鬼畜调教,全明星,奥利给,巨魔,孙笑川,自...\n",
       "Name: 视频标签, Length: 1300, dtype: object"
      ]
     },
     "execution_count": 40,
     "metadata": {},
     "output_type": "execute_result"
    }
   ],
   "source": [
    "list1=bilibili['视频标签']\n",
    "list1"
   ]
  },
  {
   "cell_type": "markdown",
   "metadata": {},
   "source": [
    "#### 用逗号对标签进行拆分"
   ]
  },
  {
   "cell_type": "code",
   "execution_count": 41,
   "metadata": {},
   "outputs": [
    {
     "data": {
      "text/plain": [
       "['高考', '郑强演讲', '正能量', '郑强', '考研', '学习', '励志', '燃爆', '张三']"
      ]
     },
     "execution_count": 41,
     "metadata": {},
     "output_type": "execute_result"
    }
   ],
   "source": [
    "list2=[]\n",
    "for i in range(1,1300):\n",
    "    list2.extend(list1[i].split(',',list1[i].count(',')))\n",
    "list2[1:10]"
   ]
  },
  {
   "cell_type": "markdown",
   "metadata": {},
   "source": [
    "#### 在标签中挑选数量最多的5个"
   ]
  },
  {
   "cell_type": "code",
   "execution_count": 42,
   "metadata": {},
   "outputs": [
    {
     "data": {
      "text/plain": [
       "[('搞笑', 227), ('全能打卡挑战', 142), ('鬼畜', 116), ('舞蹈', 112), ('数码', 105)]"
      ]
     },
     "execution_count": 42,
     "metadata": {},
     "output_type": "execute_result"
    }
   ],
   "source": [
    "list3=Counter (list2)\n",
    "list3.most_common(5)"
   ]
  },
  {
   "cell_type": "markdown",
   "metadata": {},
   "source": [
    "#### 因为全能打卡挑战和bilibili新星计划为官方活动，我们将他们剔除。"
   ]
  },
  {
   "cell_type": "code",
   "execution_count": 43,
   "metadata": {},
   "outputs": [
    {
     "data": {
      "text/plain": [
       "[('搞笑', 227),\n",
       " ('全能打卡挑战', 142),\n",
       " ('鬼畜', 116),\n",
       " ('舞蹈', 112),\n",
       " ('数码', 105),\n",
       " ('bilibili新星计划', 90),\n",
       " ('明星', 81)]"
      ]
     },
     "execution_count": 43,
     "metadata": {},
     "output_type": "execute_result"
    }
   ],
   "source": [
    "list3.most_common(7)"
   ]
  },
  {
   "cell_type": "code",
   "execution_count": 44,
   "metadata": {},
   "outputs": [
    {
     "data": {
      "text/plain": [
       "['搞笑', '鬼畜', '舞蹈', '数码', '明星']"
      ]
     },
     "execution_count": 44,
     "metadata": {},
     "output_type": "execute_result"
    }
   ],
   "source": [
    "list4=['搞笑','鬼畜','舞蹈','数码','明星']\n",
    "list4"
   ]
  },
  {
   "cell_type": "code",
   "execution_count": 45,
   "metadata": {},
   "outputs": [
    {
     "data": {
      "text/html": [
       "<div>\n",
       "<style scoped>\n",
       "    .dataframe tbody tr th:only-of-type {\n",
       "        vertical-align: middle;\n",
       "    }\n",
       "\n",
       "    .dataframe tbody tr th {\n",
       "        vertical-align: top;\n",
       "    }\n",
       "\n",
       "    .dataframe thead th {\n",
       "        text-align: right;\n",
       "    }\n",
       "</style>\n",
       "<table border=\"1\" class=\"dataframe\">\n",
       "  <thead>\n",
       "    <tr style=\"text-align: right;\">\n",
       "      <th></th>\n",
       "      <th>Unnamed: 0</th>\n",
       "      <th>_id</th>\n",
       "      <th>排名</th>\n",
       "      <th>标题</th>\n",
       "      <th>作者</th>\n",
       "      <th>综合评分</th>\n",
       "      <th>视频分类</th>\n",
       "      <th>视频标签</th>\n",
       "      <th>播放量</th>\n",
       "      <th>弹幕数</th>\n",
       "      <th>评论</th>\n",
       "      <th>收藏</th>\n",
       "      <th>点赞数</th>\n",
       "      <th>投币数</th>\n",
       "      <th>分享数</th>\n",
       "      <th>up主性别</th>\n",
       "      <th>bilibili个人认证</th>\n",
       "      <th>up主粉丝总数</th>\n",
       "      <th>up主总观看数</th>\n",
       "      <th>up主总获赞数</th>\n",
       "      <th>up主视频数</th>\n",
       "      <th>主分类</th>\n",
       "      <th>投币率</th>\n",
       "      <th>标题长度</th>\n",
       "      <th>标签长度</th>\n",
       "      <th>avg_coins</th>\n",
       "      <th>搞笑</th>\n",
       "      <th>鬼畜</th>\n",
       "      <th>舞蹈</th>\n",
       "      <th>数码</th>\n",
       "      <th>明星</th>\n",
       "    </tr>\n",
       "  </thead>\n",
       "  <tbody>\n",
       "    <tr>\n",
       "      <th>0</th>\n",
       "      <td>0</td>\n",
       "      <td>5eba48a9537acd9e3a576b80</td>\n",
       "      <td>1</td>\n",
       "      <td>bilibili献给新一代的演讲《后浪》</td>\n",
       "      <td>哔哩哔哩弹幕网</td>\n",
       "      <td>23454532</td>\n",
       "      <td>日常</td>\n",
       "      <td>何冰,正能量,后浪,五四,青年,年轻人,宣言片,演讲</td>\n",
       "      <td>23564316</td>\n",
       "      <td>220441</td>\n",
       "      <td>52332</td>\n",
       "      <td>825046</td>\n",
       "      <td>1494038</td>\n",
       "      <td>1451631</td>\n",
       "      <td>976070</td>\n",
       "      <td>男</td>\n",
       "      <td>哔哩哔哩弹幕网官方账号</td>\n",
       "      <td>2704115</td>\n",
       "      <td>260555030</td>\n",
       "      <td>26679821</td>\n",
       "      <td>86</td>\n",
       "      <td>全站</td>\n",
       "      <td>0.061603</td>\n",
       "      <td>20</td>\n",
       "      <td>26</td>\n",
       "      <td>True</td>\n",
       "      <td>False</td>\n",
       "      <td>False</td>\n",
       "      <td>False</td>\n",
       "      <td>False</td>\n",
       "      <td>False</td>\n",
       "    </tr>\n",
       "    <tr>\n",
       "      <th>1</th>\n",
       "      <td>1</td>\n",
       "      <td>5eba48aa537acd9e3a576b81</td>\n",
       "      <td>2</td>\n",
       "      <td>【醒醒】中华儿女该起床了</td>\n",
       "      <td>冈部伦太郎·</td>\n",
       "      <td>18430769</td>\n",
       "      <td>日常</td>\n",
       "      <td>罗翔,高考,郑强演讲,正能量,郑强,考研,学习,励志,燃爆,张三,后浪</td>\n",
       "      <td>6210329</td>\n",
       "      <td>77068</td>\n",
       "      <td>24224</td>\n",
       "      <td>734264</td>\n",
       "      <td>963476</td>\n",
       "      <td>876196</td>\n",
       "      <td>149756</td>\n",
       "      <td>保密</td>\n",
       "      <td>NaN</td>\n",
       "      <td>30685</td>\n",
       "      <td>6180099</td>\n",
       "      <td>969708</td>\n",
       "      <td>71</td>\n",
       "      <td>全站</td>\n",
       "      <td>0.141087</td>\n",
       "      <td>12</td>\n",
       "      <td>35</td>\n",
       "      <td>True</td>\n",
       "      <td>False</td>\n",
       "      <td>False</td>\n",
       "      <td>False</td>\n",
       "      <td>False</td>\n",
       "      <td>False</td>\n",
       "    </tr>\n",
       "    <tr>\n",
       "      <th>2</th>\n",
       "      <td>2</td>\n",
       "      <td>5eba48ab537acd9e3a576b82</td>\n",
       "      <td>3</td>\n",
       "      <td>黑人抬棺原版视频</td>\n",
       "      <td>比划比划鬼畜网</td>\n",
       "      <td>14080543</td>\n",
       "      <td>搞笑</td>\n",
       "      <td>万恶之源,鬼畜素材,黑人小哥,黑人,高能,魔性</td>\n",
       "      <td>37612110</td>\n",
       "      <td>320980</td>\n",
       "      <td>38813</td>\n",
       "      <td>766650</td>\n",
       "      <td>1253643</td>\n",
       "      <td>303053</td>\n",
       "      <td>651241</td>\n",
       "      <td>保密</td>\n",
       "      <td>NaN</td>\n",
       "      <td>113373</td>\n",
       "      <td>42111238</td>\n",
       "      <td>1395190</td>\n",
       "      <td>9</td>\n",
       "      <td>全站</td>\n",
       "      <td>0.008057</td>\n",
       "      <td>8</td>\n",
       "      <td>23</td>\n",
       "      <td>False</td>\n",
       "      <td>False</td>\n",
       "      <td>True</td>\n",
       "      <td>False</td>\n",
       "      <td>False</td>\n",
       "      <td>False</td>\n",
       "    </tr>\n",
       "    <tr>\n",
       "      <th>3</th>\n",
       "      <td>3</td>\n",
       "      <td>5eba48ac537acd9e3a576b83</td>\n",
       "      <td>4</td>\n",
       "      <td>恭喜你发现宝藏</td>\n",
       "      <td>努力の巳宝宝</td>\n",
       "      <td>14047465</td>\n",
       "      <td>MAD·AMV</td>\n",
       "      <td>MAD.AMV,天气之子,全能打卡挑战,AMV,极致画质,补帧,纯剪辑,新人向,催泪向,雨水...</td>\n",
       "      <td>4962163</td>\n",
       "      <td>19817</td>\n",
       "      <td>9050</td>\n",
       "      <td>547037</td>\n",
       "      <td>733656</td>\n",
       "      <td>609646</td>\n",
       "      <td>35062</td>\n",
       "      <td>女</td>\n",
       "      <td>NaN</td>\n",
       "      <td>80215</td>\n",
       "      <td>10732492</td>\n",
       "      <td>1283955</td>\n",
       "      <td>70</td>\n",
       "      <td>全站</td>\n",
       "      <td>0.122859</td>\n",
       "      <td>7</td>\n",
       "      <td>51</td>\n",
       "      <td>True</td>\n",
       "      <td>False</td>\n",
       "      <td>False</td>\n",
       "      <td>False</td>\n",
       "      <td>False</td>\n",
       "      <td>False</td>\n",
       "    </tr>\n",
       "    <tr>\n",
       "      <th>4</th>\n",
       "      <td>4</td>\n",
       "      <td>5eba48ae537acd9e3a576b84</td>\n",
       "      <td>5</td>\n",
       "      <td>当你遭遇跟踪！快打开！</td>\n",
       "      <td>蓝书爱喝水</td>\n",
       "      <td>10462656</td>\n",
       "      <td>日常</td>\n",
       "      <td>声优,求助,报警,警察,安全,小视频</td>\n",
       "      <td>2696705</td>\n",
       "      <td>7561</td>\n",
       "      <td>13312</td>\n",
       "      <td>452363</td>\n",
       "      <td>398885</td>\n",
       "      <td>211281</td>\n",
       "      <td>32220</td>\n",
       "      <td>男</td>\n",
       "      <td>NaN</td>\n",
       "      <td>108365</td>\n",
       "      <td>4946188</td>\n",
       "      <td>685294</td>\n",
       "      <td>46</td>\n",
       "      <td>全站</td>\n",
       "      <td>0.078348</td>\n",
       "      <td>11</td>\n",
       "      <td>18</td>\n",
       "      <td>True</td>\n",
       "      <td>False</td>\n",
       "      <td>False</td>\n",
       "      <td>False</td>\n",
       "      <td>False</td>\n",
       "      <td>False</td>\n",
       "    </tr>\n",
       "  </tbody>\n",
       "</table>\n",
       "</div>"
      ],
      "text/plain": [
       "   Unnamed: 0                       _id  排名                    标题       作者  \\\n",
       "0           0  5eba48a9537acd9e3a576b80   1  bilibili献给新一代的演讲《后浪》  哔哩哔哩弹幕网   \n",
       "1           1  5eba48aa537acd9e3a576b81   2          【醒醒】中华儿女该起床了   冈部伦太郎·   \n",
       "2           2  5eba48ab537acd9e3a576b82   3              黑人抬棺原版视频  比划比划鬼畜网   \n",
       "3           3  5eba48ac537acd9e3a576b83   4               恭喜你发现宝藏   努力の巳宝宝   \n",
       "4           4  5eba48ae537acd9e3a576b84   5           当你遭遇跟踪！快打开！    蓝书爱喝水   \n",
       "\n",
       "       综合评分     视频分类                                               视频标签  \\\n",
       "0  23454532       日常                         何冰,正能量,后浪,五四,青年,年轻人,宣言片,演讲   \n",
       "1  18430769       日常                罗翔,高考,郑强演讲,正能量,郑强,考研,学习,励志,燃爆,张三,后浪   \n",
       "2  14080543       搞笑                            万恶之源,鬼畜素材,黑人小哥,黑人,高能,魔性   \n",
       "3  14047465  MAD·AMV  MAD.AMV,天气之子,全能打卡挑战,AMV,极致画质,补帧,纯剪辑,新人向,催泪向,雨水...   \n",
       "4  10462656       日常                                 声优,求助,报警,警察,安全,小视频   \n",
       "\n",
       "        播放量     弹幕数     评论      收藏      点赞数      投币数     分享数 up主性别  \\\n",
       "0  23564316  220441  52332  825046  1494038  1451631  976070     男   \n",
       "1   6210329   77068  24224  734264   963476   876196  149756    保密   \n",
       "2  37612110  320980  38813  766650  1253643   303053  651241    保密   \n",
       "3   4962163   19817   9050  547037   733656   609646   35062     女   \n",
       "4   2696705    7561  13312  452363   398885   211281   32220     男   \n",
       "\n",
       "   bilibili个人认证  up主粉丝总数    up主总观看数   up主总获赞数  up主视频数 主分类       投币率  标题长度  \\\n",
       "0  哔哩哔哩弹幕网官方账号   2704115  260555030  26679821      86  全站  0.061603    20   \n",
       "1           NaN    30685    6180099    969708      71  全站  0.141087    12   \n",
       "2           NaN   113373   42111238   1395190       9  全站  0.008057     8   \n",
       "3           NaN    80215   10732492   1283955      70  全站  0.122859     7   \n",
       "4           NaN   108365    4946188    685294      46  全站  0.078348    11   \n",
       "\n",
       "   标签长度  avg_coins     搞笑     鬼畜     舞蹈     数码     明星  \n",
       "0    26       True  False  False  False  False  False  \n",
       "1    35       True  False  False  False  False  False  \n",
       "2    23      False  False   True  False  False  False  \n",
       "3    51       True  False  False  False  False  False  \n",
       "4    18       True  False  False  False  False  False  "
      ]
     },
     "execution_count": 45,
     "metadata": {},
     "output_type": "execute_result"
    }
   ],
   "source": [
    "bool_1=bilibili['视频标签'].str.contains('搞笑')\n",
    "bilibili['搞笑']=bool_1\n",
    "bool_2=bilibili['视频标签'].str.contains('鬼畜')\n",
    "bilibili['鬼畜']=bool_2\n",
    "bool_3=bilibili['视频标签'].str.contains('舞蹈')\n",
    "bilibili['舞蹈']=bool_3\n",
    "bool_4=bilibili['视频标签'].str.contains('数码')\n",
    "bilibili['数码']=bool_4\n",
    "bool_5=bilibili['视频标签'].str.contains('明星')\n",
    "bilibili['明星']=bool_5\n",
    "bilibili.head()"
   ]
  },
  {
   "cell_type": "markdown",
   "metadata": {},
   "source": [
    "#### 将布尔值转化为01变量"
   ]
  },
  {
   "cell_type": "code",
   "execution_count": 46,
   "metadata": {},
   "outputs": [
    {
     "data": {
      "text/html": [
       "<div>\n",
       "<style scoped>\n",
       "    .dataframe tbody tr th:only-of-type {\n",
       "        vertical-align: middle;\n",
       "    }\n",
       "\n",
       "    .dataframe tbody tr th {\n",
       "        vertical-align: top;\n",
       "    }\n",
       "\n",
       "    .dataframe thead th {\n",
       "        text-align: right;\n",
       "    }\n",
       "</style>\n",
       "<table border=\"1\" class=\"dataframe\">\n",
       "  <thead>\n",
       "    <tr style=\"text-align: right;\">\n",
       "      <th></th>\n",
       "      <th>avg_coins</th>\n",
       "      <th>搞笑</th>\n",
       "      <th>鬼畜</th>\n",
       "      <th>舞蹈</th>\n",
       "      <th>数码</th>\n",
       "      <th>明星</th>\n",
       "    </tr>\n",
       "  </thead>\n",
       "  <tbody>\n",
       "    <tr>\n",
       "      <th>0</th>\n",
       "      <td>1</td>\n",
       "      <td>0</td>\n",
       "      <td>0</td>\n",
       "      <td>0</td>\n",
       "      <td>0</td>\n",
       "      <td>0</td>\n",
       "    </tr>\n",
       "    <tr>\n",
       "      <th>1</th>\n",
       "      <td>1</td>\n",
       "      <td>0</td>\n",
       "      <td>0</td>\n",
       "      <td>0</td>\n",
       "      <td>0</td>\n",
       "      <td>0</td>\n",
       "    </tr>\n",
       "    <tr>\n",
       "      <th>2</th>\n",
       "      <td>0</td>\n",
       "      <td>0</td>\n",
       "      <td>1</td>\n",
       "      <td>0</td>\n",
       "      <td>0</td>\n",
       "      <td>0</td>\n",
       "    </tr>\n",
       "    <tr>\n",
       "      <th>3</th>\n",
       "      <td>1</td>\n",
       "      <td>0</td>\n",
       "      <td>0</td>\n",
       "      <td>0</td>\n",
       "      <td>0</td>\n",
       "      <td>0</td>\n",
       "    </tr>\n",
       "    <tr>\n",
       "      <th>4</th>\n",
       "      <td>1</td>\n",
       "      <td>0</td>\n",
       "      <td>0</td>\n",
       "      <td>0</td>\n",
       "      <td>0</td>\n",
       "      <td>0</td>\n",
       "    </tr>\n",
       "    <tr>\n",
       "      <th>...</th>\n",
       "      <td>...</td>\n",
       "      <td>...</td>\n",
       "      <td>...</td>\n",
       "      <td>...</td>\n",
       "      <td>...</td>\n",
       "      <td>...</td>\n",
       "    </tr>\n",
       "    <tr>\n",
       "      <th>1295</th>\n",
       "      <td>1</td>\n",
       "      <td>1</td>\n",
       "      <td>1</td>\n",
       "      <td>0</td>\n",
       "      <td>0</td>\n",
       "      <td>0</td>\n",
       "    </tr>\n",
       "    <tr>\n",
       "      <th>1296</th>\n",
       "      <td>0</td>\n",
       "      <td>0</td>\n",
       "      <td>1</td>\n",
       "      <td>0</td>\n",
       "      <td>0</td>\n",
       "      <td>0</td>\n",
       "    </tr>\n",
       "    <tr>\n",
       "      <th>1297</th>\n",
       "      <td>1</td>\n",
       "      <td>0</td>\n",
       "      <td>1</td>\n",
       "      <td>0</td>\n",
       "      <td>0</td>\n",
       "      <td>0</td>\n",
       "    </tr>\n",
       "    <tr>\n",
       "      <th>1298</th>\n",
       "      <td>0</td>\n",
       "      <td>0</td>\n",
       "      <td>1</td>\n",
       "      <td>0</td>\n",
       "      <td>0</td>\n",
       "      <td>0</td>\n",
       "    </tr>\n",
       "    <tr>\n",
       "      <th>1299</th>\n",
       "      <td>1</td>\n",
       "      <td>1</td>\n",
       "      <td>1</td>\n",
       "      <td>0</td>\n",
       "      <td>0</td>\n",
       "      <td>1</td>\n",
       "    </tr>\n",
       "  </tbody>\n",
       "</table>\n",
       "<p>1300 rows × 6 columns</p>\n",
       "</div>"
      ],
      "text/plain": [
       "      avg_coins  搞笑  鬼畜  舞蹈  数码  明星\n",
       "0             1   0   0   0   0   0\n",
       "1             1   0   0   0   0   0\n",
       "2             0   0   1   0   0   0\n",
       "3             1   0   0   0   0   0\n",
       "4             1   0   0   0   0   0\n",
       "...         ...  ..  ..  ..  ..  ..\n",
       "1295          1   1   1   0   0   0\n",
       "1296          0   0   1   0   0   0\n",
       "1297          1   0   1   0   0   0\n",
       "1298          0   0   1   0   0   0\n",
       "1299          1   1   1   0   0   1\n",
       "\n",
       "[1300 rows x 6 columns]"
      ]
     },
     "execution_count": 46,
     "metadata": {},
     "output_type": "execute_result"
    }
   ],
   "source": [
    "bilibili['搞笑']=bilibili['搞笑']+0\n",
    "bilibili['鬼畜']=bilibili['鬼畜']+0\n",
    "bilibili['舞蹈']=bilibili['舞蹈']+0\n",
    "bilibili['数码']=bilibili['数码']+0\n",
    "bilibili['明星']=bilibili['明星']+0\n",
    "bilibili['avg_coins']=bilibili['avg_coins']+0\n",
    "bilibili_tag=bilibili[['avg_coins','搞笑','鬼畜','舞蹈','数码','明星']]\n",
    "bilibili_tag"
   ]
  },
  {
   "cell_type": "code",
   "execution_count": 47,
   "metadata": {},
   "outputs": [
    {
     "name": "stdout",
     "output_type": "stream",
     "text": [
      "[[0 0 0 0 0]\n",
      " [0 0 0 0 0]\n",
      " [0 1 0 0 0]\n",
      " ...\n",
      " [0 1 0 0 0]\n",
      " [0 1 0 0 0]\n",
      " [1 1 0 0 1]]\n",
      "[1 1 0 ... 1 0 1]\n"
     ]
    }
   ],
   "source": [
    "tag_reg = np.array(bilibili_tag)\n",
    "X = tag_reg[:,1:]\n",
    "y = tag_reg[:,0]\n",
    "\n",
    "print(X)\n",
    "print(y)"
   ]
  },
  {
   "cell_type": "code",
   "execution_count": 48,
   "metadata": {},
   "outputs": [
    {
     "name": "stdout",
     "output_type": "stream",
     "text": [
      "(975, 5)\n",
      "(325, 5)\n"
     ]
    }
   ],
   "source": [
    "X_train, X_test, y_train, y_test = train_test_split(X, y, test_size=0.25)\n",
    "print(X_train.shape)\n",
    "print(X_test.shape)"
   ]
  },
  {
   "cell_type": "code",
   "execution_count": 49,
   "metadata": {},
   "outputs": [
    {
     "name": "stdout",
     "output_type": "stream",
     "text": [
      "Best validation accuracy: 0.559\n",
      "Best number of neighbors: 7\n",
      "Test-set accuracy: 0.582\n"
     ]
    }
   ],
   "source": [
    "X_trainval = X_train\n",
    "y_trainval = y_train\n",
    "X_train, X_val, y_train, y_val = train_test_split(X_trainval, y_trainval,test_size=0.33)\n",
    "val_scores = []\n",
    "neighbors = np.arange(1, 15, 2)\n",
    "for i in neighbors:\n",
    "    knn = KNeighborsClassifier(n_neighbors=i)\n",
    "    knn.fit(X_train, y_train)\n",
    "    val_scores.append(knn.score(X_val, y_val))\n",
    "    \n",
    "print(\"Best validation accuracy: {:.3f}\".format(np.max(val_scores)))\n",
    "best_n_neighbors = neighbors[np.argmax(val_scores)]\n",
    "print(\"Best number of neighbors: {}\".format(best_n_neighbors))\n",
    "knn = KNeighborsClassifier(n_neighbors=best_n_neighbors)\n",
    "\n",
    "knn.fit(X_trainval, y_trainval)\n",
    "print(\"Test-set accuracy: {:.3f}\".format(knn.score(X_test, y_test)))"
   ]
  },
  {
   "cell_type": "code",
   "execution_count": 50,
   "metadata": {},
   "outputs": [
    {
     "name": "stdout",
     "output_type": "stream",
     "text": [
      "Best cross-validation accuracy: 0.590\n",
      "Best number of neighbors: 13\n",
      "Test-set score: 0.578\n"
     ]
    }
   ],
   "source": [
    "cross_val_scores = []\n",
    "for i in neighbors:\n",
    "    knn = KNeighborsClassifier(n_neighbors=i)\n",
    "    scores = cross_val_score(knn, X_trainval, y_trainval, cv=6)\n",
    "    cross_val_scores.append(np.mean(scores))\n",
    "    \n",
    "    \n",
    "print(\"Best cross-validation accuracy: {:.3f}\".format(np.max(cross_val_scores)))\n",
    "best_n_neighbors = neighbors[np.argmax(cross_val_scores)]\n",
    "print(\"Best number of neighbors: {}\".format(best_n_neighbors))\n",
    "knn = KNeighborsClassifier(n_neighbors=best_n_neighbors)\n",
    "knn.fit(X_trainval, y_trainval)\n",
    "print(\"Test-set score: {:.3f}\".format(knn.score(X_test, y_test)))"
   ]
  },
  {
   "cell_type": "markdown",
   "metadata": {},
   "source": [
    "## Model 3 - 综合评分的权重"
   ]
  },
  {
   "cell_type": "code",
   "execution_count": 68,
   "metadata": {},
   "outputs": [
    {
     "name": "stdout",
     "output_type": "stream",
     "text": [
      "                            OLS Regression Results                            \n",
      "==============================================================================\n",
      "Dep. Variable:                   综合评分   R-squared:                       0.339\n",
      "Model:                            OLS   Adj. R-squared:                  0.336\n",
      "Method:                 Least Squares   F-statistic:                     110.7\n",
      "Date:                Sat, 21 Nov 2020   Prob (F-statistic):          9.75e-113\n",
      "Time:                        17:46:31   Log-Likelihood:                -20416.\n",
      "No. Observations:                1300   AIC:                         4.085e+04\n",
      "Df Residuals:                    1293   BIC:                         4.088e+04\n",
      "Df Model:                           6                                         \n",
      "Covariance Type:            nonrobust                                         \n",
      "==============================================================================\n",
      "                 coef    std err          t      P>|t|      [0.025      0.975]\n",
      "------------------------------------------------------------------------------\n",
      "const       1.311e+06   5.31e+04     24.697      0.000    1.21e+06    1.42e+06\n",
      "播放量           -0.2192      0.026     -8.413      0.000      -0.270      -0.168\n",
      "弹幕数           -1.8126      0.798     -2.271      0.023      -3.378      -0.247\n",
      "评论             9.2047      5.379      1.711      0.087      -1.348      19.757\n",
      "收藏             1.9882      0.430      4.624      0.000       1.145       2.832\n",
      "投币数            4.2118      0.314     13.433      0.000       3.597       4.827\n",
      "分享数           11.4067      1.145      9.959      0.000       9.160      13.654\n",
      "==============================================================================\n",
      "Omnibus:                      604.336   Durbin-Watson:                   0.713\n",
      "Prob(Omnibus):                  0.000   Jarque-Bera (JB):            16971.406\n",
      "Skew:                           1.562   Prob(JB):                         0.00\n",
      "Kurtosis:                      20.423   Cond. No.                     6.09e+06\n",
      "==============================================================================\n",
      "\n",
      "Warnings:\n",
      "[1] Standard Errors assume that the covariance matrix of the errors is correctly specified.\n",
      "[2] The condition number is large, 6.09e+06. This might indicate that there are\n",
      "strong multicollinearity or other numerical problems.\n"
     ]
    }
   ],
   "source": [
    "bilibili_2=bilibili[[ '播放量','弹幕数','评论', '收藏','投币数', '分享数','综合评分']]\n",
    "y2 = bilibili_2['综合评分']\n",
    "\n",
    "X2 = bilibili_2.drop(columns='综合评分')\n",
    "X2 = sm.add_constant(X2)\n",
    "reg1 = sm.OLS(y2, X2).fit()\n",
    "print(reg1.summary())"
   ]
  },
  {
   "cell_type": "markdown",
   "metadata": {},
   "source": [
    "#### 我们可以得出，综合评分受评论、收藏、点赞和分享的影响最高，但与投币数却成负相关，根据常识，我们认为投币数与综合评分应该是无关的。"
   ]
  },
  {
   "cell_type": "markdown",
   "metadata": {},
   "source": [
    "# Part 3"
   ]
  },
  {
   "cell_type": "code",
   "execution_count": 52,
   "metadata": {},
   "outputs": [],
   "source": [
    "import requests\n",
    "from bs4 import BeautifulSoup\n",
    "import pandas as pd\n",
    "import time\n",
    "from tqdm import trange"
   ]
  },
  {
   "cell_type": "markdown",
   "metadata": {},
   "source": [
    "## Bilibili献给新一代的演讲《后浪》"
   ]
  },
  {
   "cell_type": "code",
   "execution_count": 53,
   "metadata": {},
   "outputs": [
    {
     "name": "stderr",
     "output_type": "stream",
     "text": [
      "100%|██████████| 32/32 [01:48<00:00,  3.40s/it]"
     ]
    },
    {
     "name": "stdout",
     "output_type": "stream",
     "text": [
      "弹幕爬取完成\n"
     ]
    },
    {
     "name": "stderr",
     "output_type": "stream",
     "text": [
      "\n"
     ]
    }
   ],
   "source": [
    "def get_bilibili_url(start, end):\n",
    "    url_list = []\n",
    "    date_list = [i for i in pd.date_range(start, end).strftime('%Y-%m-%d')]\n",
    "    for date in date_list:\n",
    "        url = f\"https://api.bilibili.com/x/v2/dm/history?type=1&oid=186803402&date={date}\"\n",
    "        url_list.append(url)\n",
    "    return url_list\n",
    "\n",
    "def get_bilibili_danmu(url_list):\n",
    "    headers = {\n",
    "        \"user-agent\": \"Mozilla/5.0 (Windows NT 10.0; Win64; x64) AppleWebKit/537.36 (KHTML, like Gecko) Chrome/87.0.4280.66 Safari/537.36\",\n",
    "        \"cookie\": \"finger=158939783; buvid3=EC249F3B-0501-8D57-55E5-9111E20F59F044814infoc; CURRENT_FNVAL=80; _uuid=401F7929-0968-7767-5E48-43FE14D0F55A46310infoc; blackside_state=1; rpdid=|(u~||YY|Rk)0J'uY|lY)lJJJ; sid=5vwu8h9c; DedeUserID=299425856; DedeUserID__ckMd5=0936b587311f205e; SESSDATA=cb0dfa2f%2C1621260967%2C3c4f3*b1; bili_jct=2f53e66da32aadd34ed93b27166754ab; PVID=6; bfe_id=fdfaf33a01b88dd4692ca80f00c2de7f\" #Headers中copy即可\n",
    "               }\n",
    "\n",
    "    file = open(\"bilibili_danmu_shenghuo.txt\", 'w',encoding='utf-8')\n",
    "    for i in trange(len(url_list)):\n",
    "        url = url_list[i]\n",
    "        response = requests.get(url, headers=headers)\n",
    "        response.encoding = 'utf-8'\n",
    "        soup = BeautifulSoup(response.text)\n",
    "        data = soup.find_all(\"d\")\n",
    "        danmu = [data[i].text for i in range(len(data))]\n",
    "        for items in danmu:\n",
    "            file.write(items)\n",
    "            file.write(\"\\n\")\n",
    "        time.sleep(3)\n",
    "    file.close()\n",
    "\n",
    "\n",
    "if __name__ == \"__main__\":\n",
    "    start = '5/03/2020' #设置爬取弹幕的起始日\n",
    "    end = '6/03/2020' #设置爬取弹幕的终止日\n",
    "    url_list = get_bilibili_url(start, end)\n",
    "    get_bilibili_danmu(url_list)\n",
    "    print(\"弹幕爬取完成\")"
   ]
  },
  {
   "cell_type": "markdown",
   "metadata": {},
   "source": [
    "## 【何同学】我用一万行备忘录做了个动画..."
   ]
  },
  {
   "cell_type": "code",
   "execution_count": 54,
   "metadata": {},
   "outputs": [
    {
     "name": "stderr",
     "output_type": "stream",
     "text": [
      "100%|██████████| 32/32 [01:47<00:00,  3.36s/it]"
     ]
    },
    {
     "name": "stdout",
     "output_type": "stream",
     "text": [
      "弹幕爬取完成\n"
     ]
    },
    {
     "name": "stderr",
     "output_type": "stream",
     "text": [
      "\n"
     ]
    }
   ],
   "source": [
    "def get_bilibili_url(start, end):\n",
    "    url_list = []\n",
    "    date_list = [i for i in pd.date_range(start, end).strftime('%Y-%m-%d')]\n",
    "    for date in date_list:\n",
    "        url = f\"https://api.bilibili.com/x/v2/dm/history?type=1&oid=187831922&date={date}\"\n",
    "        url_list.append(url)\n",
    "    return url_list\n",
    "\n",
    "def get_bilibili_danmu(url_list):\n",
    "    headers = {\n",
    "        \"user-agent\": \"Mozilla/5.0 (Windows NT 10.0; Win64; x64) AppleWebKit/537.36 (KHTML, like Gecko) Chrome/87.0.4280.66 Safari/537.36\",\n",
    "        \"cookie\": \"buvid3=EC249F3B-0501-8D57-55E5-9111E20F59F044814infoc; CURRENT_FNVAL=80; _uuid=401F7929-0968-7767-5E48-43FE14D0F55A46310infoc; blackside_state=1; rpdid=|(u~||YY|Rk)0J'uY|lY)lJJJ; DedeUserID=299425856; DedeUserID__ckMd5=0936b587311f205e; SESSDATA=cb0dfa2f%2C1621260967%2C3c4f3*b1; bili_jct=2f53e66da32aadd34ed93b27166754ab; sid=bf5zfckm; PVID=1; bfe_id=fdfaf33a01b88dd4692ca80f00c2de7f\" #Headers中copy即可\n",
    "               }\n",
    "\n",
    "    file = open(\"bilibili_danmu_shuma.txt\", 'w',encoding='utf-8')\n",
    "    for i in trange(len(url_list)):\n",
    "        url = url_list[i]\n",
    "        response = requests.get(url, headers=headers)\n",
    "        response.encoding = 'utf-8'\n",
    "        soup = BeautifulSoup(response.text)\n",
    "        data = soup.find_all(\"d\")\n",
    "        danmu = [data[i].text for i in range(len(data))]\n",
    "        for items in danmu:\n",
    "            file.write(items)\n",
    "            file.write(\"\\n\")\n",
    "        time.sleep(3)\n",
    "    file.close()\n",
    "\n",
    "\n",
    "if __name__ == \"__main__\":\n",
    "    start = '5/06/2020' #设置爬取弹幕的起始日\n",
    "    end = '6/06/2020' #设置爬取弹幕的终止日\n",
    "    url_list = get_bilibili_url(start, end)\n",
    "    get_bilibili_danmu(url_list)\n",
    "    print(\"弹幕爬取完成\")"
   ]
  },
  {
   "cell_type": "markdown",
   "metadata": {},
   "source": [
    "## 恭喜你发现宝藏"
   ]
  },
  {
   "cell_type": "code",
   "execution_count": 55,
   "metadata": {},
   "outputs": [
    {
     "name": "stderr",
     "output_type": "stream",
     "text": [
      "100%|██████████| 31/31 [01:43<00:00,  3.34s/it]"
     ]
    },
    {
     "name": "stdout",
     "output_type": "stream",
     "text": [
      "弹幕爬取完成\n"
     ]
    },
    {
     "name": "stderr",
     "output_type": "stream",
     "text": [
      "\n"
     ]
    }
   ],
   "source": [
    "def get_bilibili_url(start, end):\n",
    "    url_list = []\n",
    "    date_list = [i for i in pd.date_range(start, end).strftime('%Y-%m-%d')]\n",
    "    for date in date_list:\n",
    "        url = f\"https://api.bilibili.com/x/v2/dm/history?type=1&oid=178453977&date={date}\"\n",
    "        url_list.append(url)\n",
    "    return url_list\n",
    "\n",
    "def get_bilibili_danmu(url_list):\n",
    "    headers = {\n",
    "        \"user-agent\": \"Mozilla/5.0 (Windows NT 10.0; Win64; x64) AppleWebKit/537.36 (KHTML, like Gecko) Chrome/87.0.4280.66 Safari/537.36\",\n",
    "        \"cookie\": \"buvid3=EC249F3B-0501-8D57-55E5-9111E20F59F044814infoc; CURRENT_FNVAL=80; _uuid=401F7929-0968-7767-5E48-43FE14D0F55A46310infoc; blackside_state=1; rpdid=|(u~||YY|Rk)0J'uY|lY)lJJJ; DedeUserID=299425856; DedeUserID__ckMd5=0936b587311f205e; SESSDATA=cb0dfa2f%2C1621260967%2C3c4f3*b1; bili_jct=2f53e66da32aadd34ed93b27166754ab; sid=bf5zfckm; PVID=1; bfe_id=1e33d9ad1cb29251013800c68af42315\" #Headers中copy即可\n",
    "               }\n",
    "\n",
    "    file = open(\"bilibili_danmu_donghua.txt\", 'w',encoding='utf-8')\n",
    "    for i in trange(len(url_list)):\n",
    "        url = url_list[i]\n",
    "        response = requests.get(url, headers=headers)\n",
    "        response.encoding = 'utf-8'\n",
    "        soup = BeautifulSoup(response.text)\n",
    "        data = soup.find_all(\"d\")\n",
    "        danmu = [data[i].text for i in range(len(data))]\n",
    "        for items in danmu:\n",
    "            file.write(items)\n",
    "            file.write(\"\\n\")\n",
    "        time.sleep(3)\n",
    "    file.close()\n",
    "\n",
    "\n",
    "if __name__ == \"__main__\":\n",
    "    start = '4/12/2020' #设置爬取弹幕的起始日\n",
    "    end = '5/12/2020' #设置爬取弹幕的终止日\n",
    "    url_list = get_bilibili_url(start, end)\n",
    "    get_bilibili_danmu(url_list)\n",
    "    print(\"弹幕爬取完成\")"
   ]
  },
  {
   "cell_type": "markdown",
   "metadata": {},
   "source": [
    "## 川 粤 火 线 ！ "
   ]
  },
  {
   "cell_type": "code",
   "execution_count": 56,
   "metadata": {},
   "outputs": [
    {
     "name": "stderr",
     "output_type": "stream",
     "text": [
      "100%|██████████| 31/31 [01:41<00:00,  3.29s/it]"
     ]
    },
    {
     "name": "stdout",
     "output_type": "stream",
     "text": [
      "弹幕爬取完成\n"
     ]
    },
    {
     "name": "stderr",
     "output_type": "stream",
     "text": [
      "\n"
     ]
    }
   ],
   "source": [
    "def get_bilibili_url(start, end):\n",
    "    url_list = []\n",
    "    date_list = [i for i in pd.date_range(start, end).strftime('%Y-%m-%d')]\n",
    "    for date in date_list:\n",
    "        url = f\"https://api.bilibili.com/x/v2/dm/history?type=1&oid=183698314&date={date}\"\n",
    "        url_list.append(url)\n",
    "    return url_list\n",
    "\n",
    "def get_bilibili_danmu(url_list):\n",
    "    headers = {\n",
    "        \"user-agent\": \"Mozilla/5.0 (Windows NT 10.0; Win64; x64) AppleWebKit/537.36 (KHTML, like Gecko) Chrome/87.0.4280.66 Safari/537.36\",\n",
    "        \"cookie\": \"buvid3=EC249F3B-0501-8D57-55E5-9111E20F59F044814infoc; CURRENT_FNVAL=80; _uuid=401F7929-0968-7767-5E48-43FE14D0F55A46310infoc; blackside_state=1; rpdid=|(u~||YY|Rk)0J'uY|lY)lJJJ; DedeUserID=299425856; DedeUserID__ckMd5=0936b587311f205e; SESSDATA=cb0dfa2f%2C1621260967%2C3c4f3*b1; bili_jct=2f53e66da32aadd34ed93b27166754ab; sid=bf5zfckm; PVID=1; bfe_id=fdfaf33a01b88dd4692ca80f00c2de7f\" #Headers中copy即可\n",
    "               }\n",
    "\n",
    "    file = open(\"bilibili_danmu_guochuang.txt\", 'w',encoding='utf-8')\n",
    "    for i in trange(len(url_list)):\n",
    "        url = url_list[i]\n",
    "        response = requests.get(url, headers=headers)\n",
    "        response.encoding = 'utf-8'\n",
    "        soup = BeautifulSoup(response.text)\n",
    "        data = soup.find_all(\"d\")\n",
    "        danmu = [data[i].text for i in range(len(data))]\n",
    "        for items in danmu:\n",
    "            file.write(items)\n",
    "            file.write(\"\\n\")\n",
    "        time.sleep(3)\n",
    "    file.close()\n",
    "\n",
    "\n",
    "if __name__ == \"__main__\":\n",
    "    start = '4/20/2020' #设置爬取弹幕的起始日\n",
    "    end = '5/20/2020' #设置爬取弹幕的终止日\n",
    "    url_list = get_bilibili_url(start, end)\n",
    "    get_bilibili_danmu(url_list)\n",
    "    print(\"弹幕爬取完成\")"
   ]
  },
  {
   "cell_type": "markdown",
   "metadata": {},
   "source": [
    "## 川建国“深得民心”"
   ]
  },
  {
   "cell_type": "code",
   "execution_count": 57,
   "metadata": {},
   "outputs": [
    {
     "name": "stderr",
     "output_type": "stream",
     "text": [
      "100%|██████████| 31/31 [01:41<00:00,  3.27s/it]"
     ]
    },
    {
     "name": "stdout",
     "output_type": "stream",
     "text": [
      "弹幕爬取完成\n"
     ]
    },
    {
     "name": "stderr",
     "output_type": "stream",
     "text": [
      "\n"
     ]
    }
   ],
   "source": [
    "def get_bilibili_url(start, end):\n",
    "    url_list = []\n",
    "    date_list = [i for i in pd.date_range(start, end).strftime('%Y-%m-%d')]\n",
    "    for date in date_list:\n",
    "        url = f\"https://api.bilibili.com/x/v2/dm/history?type=1&oid=175017843&date={date}\"\n",
    "        url_list.append(url)\n",
    "    return url_list\n",
    "\n",
    "def get_bilibili_danmu(url_list):\n",
    "    headers = {\n",
    "        \"user-agent\": \"Mozilla/5.0 (Windows NT 10.0; Win64; x64) AppleWebKit/537.36 (KHTML, like Gecko) Chrome/87.0.4280.66 Safari/537.36\",\n",
    "        \"cookie\": \"buvid3=EC249F3B-0501-8D57-55E5-9111E20F59F044814infoc; CURRENT_FNVAL=80; _uuid=401F7929-0968-7767-5E48-43FE14D0F55A46310infoc; blackside_state=1; rpdid=|(u~||YY|Rk)0J'uY|lY)lJJJ; DedeUserID=299425856; DedeUserID__ckMd5=0936b587311f205e; SESSDATA=cb0dfa2f%2C1621260967%2C3c4f3*b1; bili_jct=2f53e66da32aadd34ed93b27166754ab; sid=bf5zfckm; PVID=1; bfe_id=fdfaf33a01b88dd4692ca80f00c2de7f\" #Headers中copy即可\n",
    "               }\n",
    "\n",
    "    file = open(\"bilibili_danmu_yule.txt\", 'w',encoding='utf-8')\n",
    "    for i in trange(len(url_list)):\n",
    "        url = url_list[i]\n",
    "        response = requests.get(url, headers=headers)\n",
    "        response.encoding = 'utf-8'\n",
    "        soup = BeautifulSoup(response.text)\n",
    "        data = soup.find_all(\"d\")\n",
    "        danmu = [data[i].text for i in range(len(data))]\n",
    "        for items in danmu:\n",
    "            file.write(items)\n",
    "            file.write(\"\\n\")\n",
    "        time.sleep(3)\n",
    "    file.close()\n",
    "\n",
    "\n",
    "if __name__ == \"__main__\":\n",
    "    start = '4/07/2020' #设置爬取弹幕的起始日\n",
    "    end = '5/07/2020' #设置爬取弹幕的终止日\n",
    "    url_list = get_bilibili_url(start, end)\n",
    "    get_bilibili_danmu(url_list)\n",
    "    print(\"弹幕爬取完成\")"
   ]
  },
  {
   "cell_type": "markdown",
   "metadata": {},
   "source": [
    "## 龙"
   ]
  },
  {
   "cell_type": "code",
   "execution_count": 61,
   "metadata": {},
   "outputs": [
    {
     "name": "stderr",
     "output_type": "stream",
     "text": [
      "100%|██████████| 31/31 [01:42<00:00,  3.32s/it]"
     ]
    },
    {
     "name": "stdout",
     "output_type": "stream",
     "text": [
      "弹幕爬取完成\n"
     ]
    },
    {
     "name": "stderr",
     "output_type": "stream",
     "text": [
      "\n"
     ]
    }
   ],
   "source": [
    "def get_bilibili_url(start, end):\n",
    "    url_list = []\n",
    "    date_list = [i for i in pd.date_range(start, end).strftime('%Y-%m-%d')]\n",
    "    for date in date_list:\n",
    "        url = f\"https://api.bilibili.com/x/v2/dm/history?type=1&oid=178337341&date={date}\"\n",
    "        url_list.append(url)\n",
    "    return url_list\n",
    "\n",
    "def get_bilibili_danmu(url_list):\n",
    "    headers = {\n",
    "        \"user-agent\": \"Mozilla/5.0 (Windows NT 10.0; Win64; x64) AppleWebKit/537.36 (KHTML, like Gecko) Chrome/87.0.4280.66 Safari/537.36\",\n",
    "        \"cookie\": \"buvid3=EC249F3B-0501-8D57-55E5-9111E20F59F044814infoc; CURRENT_FNVAL=80; _uuid=401F7929-0968-7767-5E48-43FE14D0F55A46310infoc; blackside_state=1; rpdid=|(u~||YY|Rk)0J'uY|lY)lJJJ; DedeUserID=299425856; DedeUserID__ckMd5=0936b587311f205e; SESSDATA=cb0dfa2f%2C1621260967%2C3c4f3*b1; bili_jct=2f53e66da32aadd34ed93b27166754ab; sid=bf5zfckm; bfe_id=1e33d9ad1cb29251013800c68af42315; PVID=2\" #Headers中copy即可\n",
    "               }\n",
    "\n",
    "    file = open(\"bilibili_danmu_yingshi.txt\", 'w',encoding='utf-8')\n",
    "    for i in trange(len(url_list)):\n",
    "        url = url_list[i]\n",
    "        response = requests.get(url, headers=headers)\n",
    "        response.encoding = 'utf-8'\n",
    "        soup = BeautifulSoup(response.text)\n",
    "        data = soup.find_all(\"d\")\n",
    "        danmu = [data[i].text for i in range(len(data))]\n",
    "        for items in danmu:\n",
    "            file.write(items)\n",
    "            file.write(\"\\n\")\n",
    "        time.sleep(3)\n",
    "    file.close()\n",
    "\n",
    "\n",
    "if __name__ == \"__main__\":\n",
    "    start = '4/15/2020' #设置爬取弹幕的起始日\n",
    "    end = '5/15/2020' #设置爬取弹幕的终止日\n",
    "    url_list = get_bilibili_url(start, end)\n",
    "    get_bilibili_danmu(url_list)\n",
    "    print(\"弹幕爬取完成\")"
   ]
  },
  {
   "cell_type": "markdown",
   "metadata": {},
   "source": [
    "## 解决男生「雌化」尴尬，脂肪胸变胸肌！家中可练，不需场地器械。"
   ]
  },
  {
   "cell_type": "code",
   "execution_count": 62,
   "metadata": {},
   "outputs": [
    {
     "name": "stderr",
     "output_type": "stream",
     "text": [
      "100%|██████████| 31/31 [01:43<00:00,  3.34s/it]"
     ]
    },
    {
     "name": "stdout",
     "output_type": "stream",
     "text": [
      "弹幕爬取完成\n"
     ]
    },
    {
     "name": "stderr",
     "output_type": "stream",
     "text": [
      "\n"
     ]
    }
   ],
   "source": [
    "def get_bilibili_url(start, end):\n",
    "    url_list = []\n",
    "    date_list = [i for i in pd.date_range(start, end).strftime('%Y-%m-%d')]\n",
    "    for date in date_list:\n",
    "        url = f\"https://api.bilibili.com/x/v2/dm/history?type=1&oid=178120657&date={date}\"\n",
    "        url_list.append(url)\n",
    "    return url_list\n",
    "\n",
    "def get_bilibili_danmu(url_list):\n",
    "    headers = {\n",
    "        \"user-agent\": \"Mozilla/5.0 (Windows NT 10.0; Win64; x64) AppleWebKit/537.36 (KHTML, like Gecko) Chrome/87.0.4280.66 Safari/537.36\",\n",
    "        \"cookie\": \"buvid3=EC249F3B-0501-8D57-55E5-9111E20F59F044814infoc; CURRENT_FNVAL=80; _uuid=401F7929-0968-7767-5E48-43FE14D0F55A46310infoc; blackside_state=1; rpdid=|(u~||YY|Rk)0J'uY|lY)lJJJ; DedeUserID=299425856; DedeUserID__ckMd5=0936b587311f205e; SESSDATA=cb0dfa2f%2C1621260967%2C3c4f3*b1; bili_jct=2f53e66da32aadd34ed93b27166754ab; sid=bf5zfckm; bfe_id=1e33d9ad1cb29251013800c68af42315; PVID=1\" #Headers中copy即可\n",
    "               }\n",
    "\n",
    "    file = open(\"bilibili_danmu_shishang.txt\", 'w',encoding='utf-8')\n",
    "    for i in trange(len(url_list)):\n",
    "        url = url_list[i]\n",
    "        response = requests.get(url, headers=headers)\n",
    "        response.encoding = 'utf-8'\n",
    "        soup = BeautifulSoup(response.text)\n",
    "        data = soup.find_all(\"d\")\n",
    "        danmu = [data[i].text for i in range(len(data))]\n",
    "        for items in danmu:\n",
    "            file.write(items)\n",
    "            file.write(\"\\n\")\n",
    "        time.sleep(3)\n",
    "    file.close()\n",
    "\n",
    "\n",
    "if __name__ == \"__main__\":\n",
    "    start = '4/14/2020' #设置爬取弹幕的起始日\n",
    "    end = '5/14/2020' #设置爬取弹幕的终止日\n",
    "    url_list = get_bilibili_url(start, end)\n",
    "    get_bilibili_danmu(url_list)\n",
    "    print(\"弹幕爬取完成\")"
   ]
  },
  {
   "cell_type": "markdown",
   "metadata": {},
   "source": [
    "## 花了一万多元终于见到最早开放世界游戏之一"
   ]
  },
  {
   "cell_type": "code",
   "execution_count": 63,
   "metadata": {},
   "outputs": [
    {
     "name": "stderr",
     "output_type": "stream",
     "text": [
      "100%|██████████| 32/32 [01:48<00:00,  3.40s/it]"
     ]
    },
    {
     "name": "stdout",
     "output_type": "stream",
     "text": [
      "弹幕爬取完成\n"
     ]
    },
    {
     "name": "stderr",
     "output_type": "stream",
     "text": [
      "\n"
     ]
    }
   ],
   "source": [
    "def get_bilibili_url(start, end):\n",
    "    url_list = []\n",
    "    date_list = [i for i in pd.date_range(start, end).strftime('%Y-%m-%d')]\n",
    "    for date in date_list:\n",
    "        url = f\"https://api.bilibili.com/x/v2/dm/history?type=1&oid=185162869&date={date}\"\n",
    "        url_list.append(url)\n",
    "    return url_list\n",
    "\n",
    "def get_bilibili_danmu(url_list):\n",
    "    headers = {\n",
    "        \"user-agent\": \"Mozilla/5.0 (Windows NT 10.0; Win64; x64) AppleWebKit/537.36 (KHTML, like Gecko) Chrome/87.0.4280.66 Safari/537.36\",\n",
    "        \"cookie\": \"buvid3=EC249F3B-0501-8D57-55E5-9111E20F59F044814infoc; CURRENT_FNVAL=80; _uuid=401F7929-0968-7767-5E48-43FE14D0F55A46310infoc; blackside_state=1; rpdid=|(u~||YY|Rk)0J'uY|lY)lJJJ; DedeUserID=299425856; DedeUserID__ckMd5=0936b587311f205e; SESSDATA=cb0dfa2f%2C1621260967%2C3c4f3*b1; bili_jct=2f53e66da32aadd34ed93b27166754ab; sid=bf5zfckm; PVID=1; bfe_id=5db70a86bd1cbe8a88817507134f7bb5\" #Headers中copy即可\n",
    "               }\n",
    "\n",
    "    file = open(\"bilibili_danmu_youxi.txt\", 'w',encoding='utf-8')\n",
    "    for i in trange(len(url_list)):\n",
    "        url = url_list[i]\n",
    "        response = requests.get(url, headers=headers)\n",
    "        response.encoding = 'utf-8'\n",
    "        soup = BeautifulSoup(response.text)\n",
    "        data = soup.find_all(\"d\")\n",
    "        danmu = [data[i].text for i in range(len(data))]\n",
    "        for items in danmu:\n",
    "            file.write(items)\n",
    "            file.write(\"\\n\")\n",
    "        time.sleep(3)\n",
    "    file.close()\n",
    "\n",
    "\n",
    "if __name__ == \"__main__\":\n",
    "    start = '5/01/2020' #设置爬取弹幕的起始日\n",
    "    end = '6/01/2020' #设置爬取弹幕的终止日\n",
    "    url_list = get_bilibili_url(start, end)\n",
    "    get_bilibili_danmu(url_list)\n",
    "    print(\"弹幕爬取完成\")"
   ]
  },
  {
   "cell_type": "markdown",
   "metadata": {},
   "source": [
    "## 【才浅手工】为什么这把折扇做了40天？用过于硬核的制作方式打造一把暗藏玄机的红蝶折扇"
   ]
  },
  {
   "cell_type": "code",
   "execution_count": 64,
   "metadata": {},
   "outputs": [
    {
     "name": "stderr",
     "output_type": "stream",
     "text": [
      "100%|██████████| 31/31 [01:46<00:00,  3.44s/it]"
     ]
    },
    {
     "name": "stdout",
     "output_type": "stream",
     "text": [
      "弹幕爬取完成\n"
     ]
    },
    {
     "name": "stderr",
     "output_type": "stream",
     "text": [
      "\n"
     ]
    }
   ],
   "source": [
    "def get_bilibili_url(start, end):\n",
    "    url_list = []\n",
    "    date_list = [i for i in pd.date_range(start, end).strftime('%Y-%m-%d')]\n",
    "    for date in date_list:\n",
    "        url = f\"https://api.bilibili.com/x/v2/dm/history?type=1&oid=176948058&date={date}\"\n",
    "        url_list.append(url)\n",
    "    return url_list\n",
    "\n",
    "def get_bilibili_danmu(url_list):\n",
    "    headers = {\n",
    "        \"user-agent\": \"Mozilla/5.0 (Windows NT 10.0; Win64; x64) AppleWebKit/537.36 (KHTML, like Gecko) Chrome/87.0.4280.66 Safari/537.36\",\n",
    "        \"cookie\": \"buvid3=EC249F3B-0501-8D57-55E5-9111E20F59F044814infoc; CURRENT_FNVAL=80; _uuid=401F7929-0968-7767-5E48-43FE14D0F55A46310infoc; blackside_state=1; rpdid=|(u~||YY|Rk)0J'uY|lY)lJJJ; DedeUserID=299425856; DedeUserID__ckMd5=0936b587311f205e; SESSDATA=cb0dfa2f%2C1621260967%2C3c4f3*b1; bili_jct=2f53e66da32aadd34ed93b27166754ab; sid=bf5zfckm; PVID=1\" #Headers中copy即可\n",
    "               }\n",
    "\n",
    "    file = open(\"bilibili_danmu_keji.txt\", 'w',encoding='utf-8')\n",
    "    for i in trange(len(url_list)):\n",
    "        url = url_list[i]\n",
    "        response = requests.get(url, headers=headers)\n",
    "        response.encoding = 'utf-8'\n",
    "        soup = BeautifulSoup(response.text)\n",
    "        data = soup.find_all(\"d\")\n",
    "        danmu = [data[i].text for i in range(len(data))]\n",
    "        for items in danmu:\n",
    "            file.write(items)\n",
    "            file.write(\"\\n\")\n",
    "        time.sleep(3)\n",
    "    file.close()\n",
    "\n",
    "\n",
    "if __name__ == \"__main__\":\n",
    "    start = '4/12/2020' #设置爬取弹幕的起始日\n",
    "    end = '5/12/2020' #设置爬取弹幕的终止日\n",
    "    url_list = get_bilibili_url(start, end)\n",
    "    get_bilibili_danmu(url_list)\n",
    "    print(\"弹幕爬取完成\")"
   ]
  },
  {
   "cell_type": "markdown",
   "metadata": {},
   "source": [
    "## 为偶像做过最疯狂的事……yesok！一起绽放！"
   ]
  },
  {
   "cell_type": "code",
   "execution_count": 65,
   "metadata": {},
   "outputs": [
    {
     "name": "stderr",
     "output_type": "stream",
     "text": [
      "100%|██████████| 31/31 [01:44<00:00,  3.36s/it]"
     ]
    },
    {
     "name": "stdout",
     "output_type": "stream",
     "text": [
      "弹幕爬取完成\n"
     ]
    },
    {
     "name": "stderr",
     "output_type": "stream",
     "text": [
      "\n"
     ]
    }
   ],
   "source": [
    "def get_bilibili_url(start, end):\n",
    "    url_list = []\n",
    "    date_list = [i for i in pd.date_range(start, end).strftime('%Y-%m-%d')]\n",
    "    for date in date_list:\n",
    "        url = f\"https://api.bilibili.com/x/v2/dm/history?type=1&oid=182006754&date={date}\"\n",
    "        url_list.append(url)\n",
    "    return url_list\n",
    "\n",
    "def get_bilibili_danmu(url_list):\n",
    "    headers = {\n",
    "        \"user-agent\": \"Mozilla/5.0 (Windows NT 10.0; Win64; x64) AppleWebKit/537.36 (KHTML, like Gecko) Chrome/87.0.4280.66 Safari/537.36\",\n",
    "        \"cookie\": \"buvid3=EC249F3B-0501-8D57-55E5-9111E20F59F044814infoc; CURRENT_FNVAL=80; _uuid=401F7929-0968-7767-5E48-43FE14D0F55A46310infoc; blackside_state=1; rpdid=|(u~||YY|Rk)0J'uY|lY)lJJJ; DedeUserID=299425856; DedeUserID__ckMd5=0936b587311f205e; SESSDATA=cb0dfa2f%2C1621260967%2C3c4f3*b1; bili_jct=2f53e66da32aadd34ed93b27166754ab; sid=bf5zfckm; PVID=1; bfe_id=1e33d9ad1cb29251013800c68af42315\" #Headers中copy即可\n",
    "               }\n",
    "\n",
    "    file = open(\"bilibili_danmu_wudao.txt\", 'w',encoding='utf-8')\n",
    "    for i in trange(len(url_list)):\n",
    "        url = url_list[i]\n",
    "        response = requests.get(url, headers=headers)\n",
    "        response.encoding = 'utf-8'\n",
    "        soup = BeautifulSoup(response.text)\n",
    "        data = soup.find_all(\"d\")\n",
    "        danmu = [data[i].text for i in range(len(data))]\n",
    "        for items in danmu:\n",
    "            file.write(items)\n",
    "            file.write(\"\\n\")\n",
    "        time.sleep(3)\n",
    "    file.close()\n",
    "\n",
    "\n",
    "if __name__ == \"__main__\":\n",
    "    start = '4/23/2020' #设置爬取弹幕的起始日\n",
    "    end = '5/23/2020' #设置爬取弹幕的终止日\n",
    "    url_list = get_bilibili_url(start, end)\n",
    "    get_bilibili_danmu(url_list)\n",
    "    print(\"弹幕爬取完成\")"
   ]
  },
  {
   "cell_type": "markdown",
   "metadata": {},
   "source": [
    "## 最强尴尬王！！！！！！"
   ]
  },
  {
   "cell_type": "code",
   "execution_count": 66,
   "metadata": {},
   "outputs": [
    {
     "name": "stderr",
     "output_type": "stream",
     "text": [
      "100%|██████████| 32/32 [01:47<00:00,  3.36s/it]"
     ]
    },
    {
     "name": "stdout",
     "output_type": "stream",
     "text": [
      "弹幕爬取完成\n"
     ]
    },
    {
     "name": "stderr",
     "output_type": "stream",
     "text": [
      "\n"
     ]
    }
   ],
   "source": [
    "def get_bilibili_url(start, end):\n",
    "    url_list = []\n",
    "    date_list = [i for i in pd.date_range(start, end).strftime('%Y-%m-%d')]\n",
    "    for date in date_list:\n",
    "        url = f\"https://api.bilibili.com/x/v2/dm/history?type=1&oid=185300717&date={date}\"\n",
    "        url_list.append(url)\n",
    "    return url_list\n",
    "\n",
    "def get_bilibili_danmu(url_list):\n",
    "    headers = {\n",
    "        \"user-agent\": \"Mozilla/5.0 (Windows NT 10.0; Win64; x64) AppleWebKit/537.36 (KHTML, like Gecko) Chrome/87.0.4280.66 Safari/537.36\",\n",
    "        \"cookie\": \"buvid3=EC249F3B-0501-8D57-55E5-9111E20F59F044814infoc; CURRENT_FNVAL=80; _uuid=401F7929-0968-7767-5E48-43FE14D0F55A46310infoc; blackside_state=1; rpdid=|(u~||YY|Rk)0J'uY|lY)lJJJ; DedeUserID=299425856; DedeUserID__ckMd5=0936b587311f205e; SESSDATA=cb0dfa2f%2C1621260967%2C3c4f3*b1; bili_jct=2f53e66da32aadd34ed93b27166754ab; sid=bf5zfckm; bfe_id=1e33d9ad1cb29251013800c68af42315; PVID=2\" #Headers中copy即可\n",
    "               }\n",
    "\n",
    "    file = open(\"bilibili_danmu_yinyue.txt\", 'w',encoding='utf-8')\n",
    "    for i in trange(len(url_list)):\n",
    "        url = url_list[i]\n",
    "        response = requests.get(url, headers=headers)\n",
    "        response.encoding = 'utf-8'\n",
    "        soup = BeautifulSoup(response.text)\n",
    "        data = soup.find_all(\"d\")\n",
    "        danmu = [data[i].text for i in range(len(data))]\n",
    "        for items in danmu:\n",
    "            file.write(items)\n",
    "            file.write(\"\\n\")\n",
    "        time.sleep(3)\n",
    "    file.close()\n",
    "\n",
    "\n",
    "if __name__ == \"__main__\":\n",
    "    start = '5/01/2020' #设置爬取弹幕的起始日\n",
    "    end = '6/01/2020' #设置爬取弹幕的终止日\n",
    "    url_list = get_bilibili_url(start, end)\n",
    "    get_bilibili_danmu(url_list)\n",
    "    print(\"弹幕爬取完成\")"
   ]
  },
  {
   "cell_type": "markdown",
   "metadata": {},
   "source": [
    "## 【黑人抬棺】车头一翘，_________"
   ]
  },
  {
   "cell_type": "code",
   "execution_count": 59,
   "metadata": {},
   "outputs": [
    {
     "name": "stderr",
     "output_type": "stream",
     "text": [
      "100%|██████████| 31/31 [01:42<00:00,  3.30s/it]"
     ]
    },
    {
     "name": "stdout",
     "output_type": "stream",
     "text": [
      "弹幕爬取完成\n"
     ]
    },
    {
     "name": "stderr",
     "output_type": "stream",
     "text": [
      "\n"
     ]
    }
   ],
   "source": [
    "def get_bilibili_url(start, end):\n",
    "    url_list = []\n",
    "    date_list = [i for i in pd.date_range(start, end).strftime('%Y-%m-%d')]\n",
    "    for date in date_list:\n",
    "        url = f\"https://api.bilibili.com/x/v2/dm/history?type=1&oid=177359979&date={date}\"\n",
    "        url_list.append(url)\n",
    "    return url_list\n",
    "\n",
    "def get_bilibili_danmu(url_list):\n",
    "    headers = {\n",
    "        \"user-agent\": \"Mozilla/5.0 (Windows NT 10.0; Win64; x64) AppleWebKit/537.36 (KHTML, like Gecko) Chrome/87.0.4280.66 Safari/537.36\",\n",
    "        \"cookie\": \"buvid3=EC249F3B-0501-8D57-55E5-9111E20F59F044814infoc; CURRENT_FNVAL=80; _uuid=401F7929-0968-7767-5E48-43FE14D0F55A46310infoc; blackside_state=1; rpdid=|(u~||YY|Rk)0J'uY|lY)lJJJ; DedeUserID=299425856; DedeUserID__ckMd5=0936b587311f205e; SESSDATA=cb0dfa2f%2C1621260967%2C3c4f3*b1; bili_jct=2f53e66da32aadd34ed93b27166754ab; sid=bf5zfckm; PVID=3; bfe_id=018fcd81e698bbc7e0648e86bdc49e09\" #Headers中copy即可\n",
    "               }\n",
    "\n",
    "    file = open(\"bilibili_danmu_guichu.txt\", 'w',encoding='utf-8')\n",
    "    for i in trange(len(url_list)):\n",
    "        url = url_list[i]\n",
    "        response = requests.get(url, headers=headers)\n",
    "        response.encoding = 'utf-8'\n",
    "        soup = BeautifulSoup(response.text)\n",
    "        data = soup.find_all(\"d\")\n",
    "        danmu = [data[i].text for i in range(len(data))]\n",
    "        for items in danmu:\n",
    "            file.write(items)\n",
    "            file.write(\"\\n\")\n",
    "        time.sleep(3)\n",
    "    file.close()\n",
    "\n",
    "\n",
    "if __name__ == \"__main__\":\n",
    "    start = '4/12/2020' #设置爬取弹幕的起始日\n",
    "    end = '5/12/2020' #设置爬取弹幕的终止日\n",
    "    url_list = get_bilibili_url(start, end)\n",
    "    get_bilibili_danmu(url_list)\n",
    "    print(\"弹幕爬取完成\")"
   ]
  },
  {
   "cell_type": "markdown",
   "metadata": {},
   "source": [
    "## 英雄联盟"
   ]
  },
  {
   "cell_type": "code",
   "execution_count": 60,
   "metadata": {},
   "outputs": [
    {
     "name": "stderr",
     "output_type": "stream",
     "text": [
      "100%|██████████| 31/31 [01:42<00:00,  3.31s/it]"
     ]
    },
    {
     "name": "stdout",
     "output_type": "stream",
     "text": [
      "弹幕爬取完成\n"
     ]
    },
    {
     "name": "stderr",
     "output_type": "stream",
     "text": [
      "\n"
     ]
    }
   ],
   "source": [
    "def get_bilibili_url(start, end):\n",
    "    url_list = []\n",
    "    date_list = [i for i in pd.date_range(start, end).strftime('%Y-%m-%d')]\n",
    "    for date in date_list:\n",
    "        url = f\"https://api.bilibili.com/x/v2/dm/history?type=1&oid=61671548&date={date}\"\n",
    "        url_list.append(url)\n",
    "    return url_list\n",
    "\n",
    "def get_bilibili_danmu(url_list):\n",
    "    headers = {\n",
    "        \"user-agent\": \"Mozilla/5.0 (Windows NT 10.0; Win64; x64) AppleWebKit/537.36 (KHTML, like Gecko) Chrome/87.0.4280.66 Safari/537.36\",\n",
    "        \"cookie\": \"buvid3=EC249F3B-0501-8D57-55E5-9111E20F59F044814infoc; CURRENT_FNVAL=80; _uuid=401F7929-0968-7767-5E48-43FE14D0F55A46310infoc; blackside_state=1; rpdid=|(u~||YY|Rk)0J'uY|lY)lJJJ; DedeUserID=299425856; DedeUserID__ckMd5=0936b587311f205e; SESSDATA=cb0dfa2f%2C1621260967%2C3c4f3*b1; bili_jct=2f53e66da32aadd34ed93b27166754ab; sid=bf5zfckm; PVID=3; bfe_id=1e33d9ad1cb29251013800c68af42315; bsource=share_source_copy_link\" #Headers中copy即可\n",
    "               }\n",
    "\n",
    "    file = open(\"bilibili_danmu_lol.txt\", 'w',encoding='utf-8')\n",
    "    for i in trange(len(url_list)):\n",
    "        url = url_list[i]\n",
    "        response = requests.get(url, headers=headers)\n",
    "        response.encoding = 'utf-8'\n",
    "        soup = BeautifulSoup(response.text)\n",
    "        data = soup.find_all(\"d\")\n",
    "        danmu = [data[i].text for i in range(len(data))]\n",
    "        for items in danmu:\n",
    "            file.write(items)\n",
    "            file.write(\"\\n\")\n",
    "        time.sleep(3)\n",
    "    file.close()\n",
    "\n",
    "\n",
    "if __name__ == \"__main__\":\n",
    "    start = '11/3/2018' #设置爬取弹幕的起始日\n",
    "    end = '12/3/2018' #设置爬取弹幕的终止日\n",
    "    url_list = get_bilibili_url(start, end)\n",
    "    get_bilibili_danmu(url_list)\n",
    "    print(\"弹幕爬取完成\")"
   ]
  },
  {
   "cell_type": "markdown",
   "metadata": {},
   "source": [
    "## 绘制词云"
   ]
  },
  {
   "cell_type": "code",
   "execution_count": 69,
   "metadata": {},
   "outputs": [],
   "source": [
    "import pandas as pd\n",
    "pd.set_option('max_rows', None)\n",
    "pd.set_option('max_columns', None)\n",
    "from bs4 import BeautifulSoup\n",
    "from urllib.request import Request, urlopen\n",
    "import time\n",
    "import re\n",
    "import requests"
   ]
  },
  {
   "cell_type": "code",
   "execution_count": 70,
   "metadata": {},
   "outputs": [
    {
     "name": "stdout",
     "output_type": "stream",
     "text": [
      "Requirement already satisfied: wordcloud in c:\\users\\helena\\anaconda3\\lib\\site-packages (1.8.1)\n",
      "Requirement already satisfied: matplotlib in c:\\users\\helena\\anaconda3\\lib\\site-packages (from wordcloud) (3.2.2)\n",
      "Requirement already satisfied: numpy>=1.6.1 in c:\\users\\helena\\anaconda3\\lib\\site-packages (from wordcloud) (1.18.5)\n",
      "Requirement already satisfied: pillow in c:\\users\\helena\\anaconda3\\lib\\site-packages (from wordcloud) (7.2.0)\n",
      "Requirement already satisfied: python-dateutil>=2.1 in c:\\users\\helena\\anaconda3\\lib\\site-packages (from matplotlib->wordcloud) (2.8.1)\n",
      "Requirement already satisfied: pyparsing!=2.0.4,!=2.1.2,!=2.1.6,>=2.0.1 in c:\\users\\helena\\anaconda3\\lib\\site-packages (from matplotlib->wordcloud) (2.4.7)\n",
      "Requirement already satisfied: cycler>=0.10 in c:\\users\\helena\\anaconda3\\lib\\site-packages (from matplotlib->wordcloud) (0.10.0)\n",
      "Requirement already satisfied: kiwisolver>=1.0.1 in c:\\users\\helena\\anaconda3\\lib\\site-packages (from matplotlib->wordcloud) (1.2.0)\n",
      "Requirement already satisfied: six>=1.5 in c:\\users\\helena\\anaconda3\\lib\\site-packages (from python-dateutil>=2.1->matplotlib->wordcloud) (1.15.0)\n"
     ]
    }
   ],
   "source": [
    "!pip install wordcloud"
   ]
  },
  {
   "cell_type": "code",
   "execution_count": 71,
   "metadata": {},
   "outputs": [],
   "source": [
    "from wordcloud import WordCloud "
   ]
  },
  {
   "cell_type": "code",
   "execution_count": 72,
   "metadata": {},
   "outputs": [],
   "source": [
    "import jieba\n",
    "import imageio\n",
    "import wordcloud\n",
    "from PIL import Image\n",
    "import matplotlib.pyplot as plt\n",
    "import numpy as np\n",
    "from wordcloud import WordCloud, STOPWORDS, ImageColorGenerator"
   ]
  },
  {
   "cell_type": "code",
   "execution_count": 91,
   "metadata": {},
   "outputs": [
    {
     "data": {
      "image/png": "[encoded data removed]",
      "text/plain": [
       "<Figure size 360x360 with 1 Axes>"
      ]
     },
     "metadata": {
      "needs_background": "light"
     },
     "output_type": "display_data"
    },
    {
     "data": {
      "image/png": "[encoded data removed]",
      "text/plain": [
       "<Figure size 360x360 with 1 Axes>"
      ]
     },
     "metadata": {
      "needs_background": "light"
     },
     "output_type": "display_data"
    }
   ],
   "source": [
    "\n",
    "# 读取txt文本\n",
    "with open('bilibili_danmu_lol.txt','r',encoding='utf-8') as f:\n",
    "    text = f.read()\n",
    "\n",
    "# 简单处理文本，删除空格等多余字符\n",
    "text = text.replace(' ','').replace('\\t','').replace('\\n','')\n",
    "# 使用jieba分隔词语\n",
    "wordlist = jieba.lcut(text)   # ['aa','bb','cc'...]\n",
    "# print(wordlist)\n",
    "# 用空格连接各个词语，又形成一个大字符串\n",
    "string = ' '.join(wordlist)   # 'aa bb cc'\n",
    "\n",
    "# 读取图片\n",
    "im = imageio.imread('timo2.jpg')\n",
    "im_coloring = np.array(Image.open(r\"C:\\Users\\Helena\\Desktop\\研一上\\课程\\python课件\\大作业pre\\timo2.jpg\"))\n",
    "image_colors = ImageColorGenerator(im_coloring)\n",
    "\n",
    "# 生成词云图片\n",
    "# 先实例化一个词云对象\n",
    "wc = wordcloud.WordCloud(width=im.shape[0],  # 词云图宽度同原图片宽度\n",
    "                        height=im.shape[1],\n",
    "                        background_color='white',  # 背景颜色白色\n",
    "                        font_path='msyh.ttc',  # 指定字体路径，微软雅黑，可从win自带的字体库中找\n",
    "                        mask=im,   # mask 指定词云形状图片，默认为矩形\n",
    "                        scale=5)   # 默认为1，越大越清晰\n",
    "# 再给词云输入文字\n",
    "wc.generate(string)\n",
    "# 保存成文件\n",
    "wc.to_file('word_cloud_timofinal.png')\n",
    "\n",
    "plt.figure(figsize=(5,5))\n",
    "plt.imshow(im_coloring, cmap=plt.cm.gray, interpolation=\"bilinear\")\n",
    "plt.axis(\"off\")\n",
    "plt.figure(figsize=(5,5))\n",
    "plt.imshow(wc.recolor(color_func=image_colors), interpolation=\"bilinear\")\n",
    "plt.axis(\"off\")\n",
    "\n",
    "plt.show()"
   ]
  },
  {
   "cell_type": "markdown",
   "metadata": {},
   "source": [
    "## 统计各分区经典弹幕出现频率"
   ]
  },
  {
   "cell_type": "code",
   "execution_count": 77,
   "metadata": {},
   "outputs": [],
   "source": [
    "import os\n",
    "from pathlib import Path\n",
    "import pandas as pd"
   ]
  },
  {
   "cell_type": "code",
   "execution_count": 78,
   "metadata": {},
   "outputs": [],
   "source": [
    "pd.set_option('display.max_columns', None)\n",
    "pd.set_option('display.max_rows', None)\n",
    "pd.set_option('max_colwidth',100)"
   ]
  },
  {
   "cell_type": "code",
   "execution_count": 79,
   "metadata": {},
   "outputs": [
    {
     "data": {
      "text/plain": [
       "WindowsPath('C:/Users/Helena/Desktop/研一上/课程/python课件/大作业pre')"
      ]
     },
     "execution_count": 79,
     "metadata": {},
     "output_type": "execute_result"
    }
   ],
   "source": [
    "current_directory = Path.cwd()\n",
    "current_directory"
   ]
  },
  {
   "cell_type": "code",
   "execution_count": 80,
   "metadata": {},
   "outputs": [
    {
     "data": {
      "text/plain": [
       "WindowsPath('C:/Users/Helena/Desktop/研一上/课程/python课件/大作业pre/弹幕')"
      ]
     },
     "execution_count": 80,
     "metadata": {},
     "output_type": "execute_result"
    }
   ],
   "source": [
    "folder_弹幕 = current_directory/'弹幕'\n",
    "folder_弹幕"
   ]
  },
  {
   "cell_type": "code",
   "execution_count": 81,
   "metadata": {},
   "outputs": [
    {
     "data": {
      "text/plain": [
       "['bilibili_danmu_动画.txt',\n",
       " 'bilibili_danmu_国创.txt',\n",
       " 'bilibili_danmu_娱乐.txt',\n",
       " 'bilibili_danmu_影视.txt',\n",
       " 'bilibili_danmu_数码.txt',\n",
       " 'bilibili_danmu_时尚.txt',\n",
       " 'bilibili_danmu_游戏.txt',\n",
       " 'bilibili_danmu_生活.txt',\n",
       " 'bilibili_danmu_科技.txt',\n",
       " 'bilibili_danmu_舞蹈.txt',\n",
       " 'bilibili_danmu_音乐.txt',\n",
       " 'bilibili_danmu_鬼畜.txt']"
      ]
     },
     "execution_count": 81,
     "metadata": {},
     "output_type": "execute_result"
    }
   ],
   "source": [
    "files_弹幕 = os.listdir(folder_弹幕)\n",
    "files_弹幕"
   ]
  },
  {
   "cell_type": "code",
   "execution_count": 82,
   "metadata": {},
   "outputs": [
    {
     "data": {
      "text/html": [
       "<div>\n",
       "<style scoped>\n",
       "    .dataframe tbody tr th:only-of-type {\n",
       "        vertical-align: middle;\n",
       "    }\n",
       "\n",
       "    .dataframe tbody tr th {\n",
       "        vertical-align: top;\n",
       "    }\n",
       "\n",
       "    .dataframe thead th {\n",
       "        text-align: right;\n",
       "    }\n",
       "</style>\n",
       "<table border=\"1\" class=\"dataframe\">\n",
       "  <thead>\n",
       "    <tr style=\"text-align: right;\">\n",
       "      <th></th>\n",
       "      <th>file_name</th>\n",
       "    </tr>\n",
       "  </thead>\n",
       "  <tbody>\n",
       "    <tr>\n",
       "      <th>0</th>\n",
       "      <td>bilibili_danmu_动画.txt</td>\n",
       "    </tr>\n",
       "    <tr>\n",
       "      <th>1</th>\n",
       "      <td>bilibili_danmu_国创.txt</td>\n",
       "    </tr>\n",
       "    <tr>\n",
       "      <th>2</th>\n",
       "      <td>bilibili_danmu_娱乐.txt</td>\n",
       "    </tr>\n",
       "    <tr>\n",
       "      <th>3</th>\n",
       "      <td>bilibili_danmu_影视.txt</td>\n",
       "    </tr>\n",
       "    <tr>\n",
       "      <th>4</th>\n",
       "      <td>bilibili_danmu_数码.txt</td>\n",
       "    </tr>\n",
       "    <tr>\n",
       "      <th>5</th>\n",
       "      <td>bilibili_danmu_时尚.txt</td>\n",
       "    </tr>\n",
       "    <tr>\n",
       "      <th>6</th>\n",
       "      <td>bilibili_danmu_游戏.txt</td>\n",
       "    </tr>\n",
       "    <tr>\n",
       "      <th>7</th>\n",
       "      <td>bilibili_danmu_生活.txt</td>\n",
       "    </tr>\n",
       "    <tr>\n",
       "      <th>8</th>\n",
       "      <td>bilibili_danmu_科技.txt</td>\n",
       "    </tr>\n",
       "    <tr>\n",
       "      <th>9</th>\n",
       "      <td>bilibili_danmu_舞蹈.txt</td>\n",
       "    </tr>\n",
       "    <tr>\n",
       "      <th>10</th>\n",
       "      <td>bilibili_danmu_音乐.txt</td>\n",
       "    </tr>\n",
       "    <tr>\n",
       "      <th>11</th>\n",
       "      <td>bilibili_danmu_鬼畜.txt</td>\n",
       "    </tr>\n",
       "  </tbody>\n",
       "</table>\n",
       "</div>"
      ],
      "text/plain": [
       "                file_name\n",
       "0   bilibili_danmu_动画.txt\n",
       "1   bilibili_danmu_国创.txt\n",
       "2   bilibili_danmu_娱乐.txt\n",
       "3   bilibili_danmu_影视.txt\n",
       "4   bilibili_danmu_数码.txt\n",
       "5   bilibili_danmu_时尚.txt\n",
       "6   bilibili_danmu_游戏.txt\n",
       "7   bilibili_danmu_生活.txt\n",
       "8   bilibili_danmu_科技.txt\n",
       "9   bilibili_danmu_舞蹈.txt\n",
       "10  bilibili_danmu_音乐.txt\n",
       "11  bilibili_danmu_鬼畜.txt"
      ]
     },
     "execution_count": 82,
     "metadata": {},
     "output_type": "execute_result"
    }
   ],
   "source": [
    "df_弹幕 = pd.DataFrame(files_弹幕, columns = ['file_name'])\n",
    "df_弹幕.head(13)"
   ]
  },
  {
   "cell_type": "code",
   "execution_count": 83,
   "metadata": {},
   "outputs": [],
   "source": [
    "x = []\n",
    "y = []\n",
    "for i in range(12):\n",
    "    location = folder_弹幕.__str__() + '/' + df_弹幕.iloc[i,0]\n",
    "    location=location.replace('\\\\','/')\n",
    "    x.append(df_弹幕.iloc[i,0].split('_')[2].split('.')[0])\n",
    "    with open(location,'r',encoding='utf-8') as f:\n",
    "        text = f.read()\n",
    "    word_count = text.count('下次一定')\n",
    "    y.append(word_count) "
   ]
  },
  {
   "cell_type": "code",
   "execution_count": 84,
   "metadata": {},
   "outputs": [],
   "source": [
    "import matplotlib.pyplot as plt\n",
    "from matplotlib import  font_manager"
   ]
  },
  {
   "cell_type": "code",
   "execution_count": 85,
   "metadata": {},
   "outputs": [],
   "source": [
    "my_font=font_manager.FontProperties(fname=\"C:\\Windows\\Fonts\\simfang.ttf\")\n",
    "my_font2=font_manager.FontProperties(fname=\"C:\\Windows\\Fonts\\simhei.ttf\")"
   ]
  },
  {
   "cell_type": "code",
   "execution_count": 86,
   "metadata": {},
   "outputs": [
    {
     "data": {
      "image/png": "[encoded data removed]",
      "text/plain": [
       "<Figure size 432x288 with 1 Axes>"
      ]
     },
     "metadata": {
      "needs_background": "light"
     },
     "output_type": "display_data"
    }
   ],
   "source": [
    "plt.bar(x,y)\n",
    "plt.title('下次一定!',fontproperties=my_font2)\n",
    "labels = x\n",
    "plt.xticks(x, labels, fontproperties=my_font)\n",
    "plt.show()"
   ]
  },
  {
   "cell_type": "code",
   "execution_count": 87,
   "metadata": {},
   "outputs": [],
   "source": [
    "x = []\n",
    "y = []\n",
    "for i in range(12):\n",
    "    location = folder_弹幕.__str__() + '/' + df_弹幕.iloc[i,0]\n",
    "    location=location.replace('\\\\','/')\n",
    "    x.append(df_弹幕.iloc[i,0].split('_')[2].split('.')[0])\n",
    "    with open(location,'r',encoding='utf-8') as f:\n",
    "        text = f.read()\n",
    "    word_count = text.count('开头见')\n",
    "    y.append(word_count) "
   ]
  },
  {
   "cell_type": "code",
   "execution_count": 88,
   "metadata": {},
   "outputs": [
    {
     "data": {
      "image/png": "[encoded data removed]",
      "text/plain": [
       "<Figure size 432x288 with 1 Axes>"
      ]
     },
     "metadata": {
      "needs_background": "light"
     },
     "output_type": "display_data"
    }
   ],
   "source": [
    "plt.bar(x,y)\n",
    "plt.title('开头见!',fontproperties=my_font2)\n",
    "labels = x\n",
    "plt.xticks(x, labels, fontproperties=my_font)\n",
    "plt.show()"
   ]
  },
  {
   "cell_type": "code",
   "execution_count": 89,
   "metadata": {},
   "outputs": [
    {
     "data": {
      "image/png": "[encoded data removed]",
      "text/plain": [
       "<Figure size 432x288 with 1 Axes>"
      ]
     },
     "metadata": {
      "needs_background": "light"
     },
     "output_type": "display_data"
    }
   ],
   "source": [
    "x = []\n",
    "y = []\n",
    "for i in range(12):\n",
    "    location = folder_弹幕.__str__() + '/' + df_弹幕.iloc[i,0]\n",
    "    location=location.replace('\\\\','/')\n",
    "    x.append(df_弹幕.iloc[i,0].split('_')[2].split('.')[0])\n",
    "    with open(location,'r',encoding='utf-8') as f:\n",
    "        text = f.read()\n",
    "    word_count = text.count('白嫖失败')\n",
    "    y.append(word_count) \n",
    "    \n",
    "plt.bar(x,y)\n",
    "plt.title('白嫖失败',fontproperties=my_font2)\n",
    "labels = x\n",
    "plt.xticks(x, labels, fontproperties=my_font)\n",
    "plt.show()"
   ]
  },
  {
   "cell_type": "code",
   "execution_count": 90,
   "metadata": {},
   "outputs": [
    {
     "data": {
      "image/png": "[encoded data removed]",
      "text/plain": [
       "<Figure size 432x288 with 1 Axes>"
      ]
     },
     "metadata": {
      "needs_background": "light"
     },
     "output_type": "display_data"
    }
   ],
   "source": [
    "x = []\n",
    "y = []\n",
    "for i in range(12):\n",
    "    location = folder_弹幕.__str__() + '/' + df_弹幕.iloc[i,0]\n",
    "    location=location.replace('\\\\','/')\n",
    "    x.append(df_弹幕.iloc[i,0].split('_')[2].split('.')[0])\n",
    "    with open(location,'r',encoding='utf-8') as f:\n",
    "        text = f.read()\n",
    "    word_count = text.count('哈哈哈')\n",
    "    y.append(word_count) \n",
    "    \n",
    "plt.bar(x,y)\n",
    "plt.title('哈哈哈',fontproperties=my_font2)\n",
    "labels = x\n",
    "plt.xticks(x, labels, fontproperties=my_font)\n",
    "plt.show()"
   ]
  },
  {
   "cell_type": "markdown",
   "metadata": {},
   "source": [
    "# Part 4"
   ]
  },
  {
   "cell_type": "code",
   "execution_count": null,
   "metadata": {},
   "outputs": [],
   "source": [
    "import re\n",
    "from urllib.request import urlopen\n",
    "import os.path\n",
    "import sys\n",
    "from PyQt4.QtWebKit import *\n",
    "from PyQt4.QtGui import *\n",
    "from PyQt4.QtCore import *\n",
    "\n",
    "\n",
    "class Render(QWebPage):  # 用来渲染网页,将url中的所有信息加载下来并存到一个新的框架中\n",
    "    def __init__(self,url):\n",
    "        self.app = QApplication(sys.argv)\n",
    "        QWebPage.__init__(self)\n",
    "        self.loadFinished.connect(self._loadFinished)\n",
    "        self.mainFrame().load(QUrl(url))\n",
    "        self.app.exec_()\n",
    "    def _loadFinished(self, result):\n",
    "        self.frame = self.mainFrame()\n",
    "        self.app.quit()\n",
    "\n",
    "\n",
    "#创建images文件夹\n",
    "images_dir = 'heros/'\n",
    "if not os.path.exists(images_dir):\n",
    "    os.mkdir(images_dir)\n",
    "\n",
    "url = 'https://lol.qq.com/data/info-heros.shtml#Navi'\n",
    "r = Render(url)\n",
    "\n",
    "#得到经过渲染的网页\n",
    "html = r.frame.toHtml()\n",
    "\n",
    "\n",
    "#截取主体部分\n",
    "body_search = re.search(r'<ul id=\"jSearchHeroDiv\" class=\"imgtextlist\">([\\s\\S]+?)</ul>.*?',html)\n",
    "body = body_search.group(1)\n",
    "\n",
    "#获取图片链接和对应英雄名\n",
    "hero = re.findall(r'<img src=\"(.*?)\" alt=\"(.*?)\\s(.*?)\">.*?',body)\n",
    "\n",
    "\n",
    "#写入图片\n",
    "for i in hero:\n",
    "    name = i[1] + '_' + i[2]\n",
    "    print(\"正在下载\"+name)\n",
    "    image = urlopen('http:' + i[0])\n",
    "    with open('heros/'+name+'.jpg','wb') as f:\n",
    "        f.write(image.read())\n",
    "\n",
    "print(\"----下载完成----\")"
   ]
  },
  {
   "cell_type": "code",
   "execution_count": 1,
   "metadata": {
    "scrolled": true
   },
   "outputs": [],
   "source": [
    "import os,dlib,glob,numpy\n",
    "from skimage import io\n",
    " \n",
    "# 人脸关键点检测器\n",
    "predictor_path = \"shape_predictor_68_face_landmarks.dat\"\n",
    "# 人脸识别模型、提取特征值\n",
    "face_rec_model_path = \"dlib_face_recognition_resnet_model_v1.dat\"\n",
    "# 训练图像文件夹\n",
    "faces_folder_path ='heros' \n",
    "# 加载模型\n",
    "detector = dlib.get_frontal_face_detector()\n",
    "sp = dlib.shape_predictor(predictor_path)\n",
    "facerec = dlib.face_recognition_model_v1(face_rec_model_path)"
   ]
  },
  {
   "cell_type": "code",
   "execution_count": 2,
   "metadata": {},
   "outputs": [
    {
     "name": "stdout",
     "output_type": "stream",
     "text": [
      "正在处理: heros\\万花通灵_妮蔻.jpg\n",
      "<dlib.dlib.rectangles object at 0x00000151584E71B0>\n",
      "正在处理: heros\\不屈之枪_潘森.jpg\n",
      "<dlib.dlib.rectangles object at 0x00000151584E7210>\n",
      "正在处理: heros\\不灭狂雷_沃利贝尔.jpg\n",
      "<dlib.dlib.rectangles object at 0x00000151584E71B0>\n",
      "正在处理: heros\\不祥之刃_卡特琳娜.jpg\n",
      "<dlib.dlib.rectangles object at 0x00000151584E7210>\n",
      "正在处理: heros\\九尾妖狐_阿狸.jpg\n",
      "<dlib.dlib.rectangles object at 0x00000151584E71B0>\n",
      "正在处理: heros\\亡灵战神_赛恩.jpg\n",
      "<dlib.dlib.rectangles object at 0x00000151584E7210>\n",
      "正在处理: heros\\仙灵女巫_璐璐.jpg\n",
      "<dlib.dlib.rectangles object at 0x00000151584E71B0>\n",
      "正在处理: heros\\众星之子_索拉卡.jpg\n",
      "<dlib.dlib.rectangles object at 0x00000151584E7210>\n",
      "0 [(21, 30) (96, 105)]\n",
      "------\n",
      "正在处理: heros\\傲之追猎者_雷恩加尔.jpg\n",
      "<dlib.dlib.rectangles object at 0x00000151584E7390>\n",
      "正在处理: heros\\元素女皇_奇亚娜.jpg\n",
      "<dlib.dlib.rectangles object at 0x00000151584E73F0>\n",
      "0 [(17, 39) (80, 101)]\n",
      "------\n",
      "正在处理: heros\\光辉女郎_拉克丝.jpg\n",
      "<dlib.dlib.rectangles object at 0x00000151584E71B0>\n",
      "正在处理: heros\\兽灵行者_乌迪尔.jpg\n",
      "<dlib.dlib.rectangles object at 0x00000151584E7270>\n",
      "正在处理: heros\\冰晶凤凰_艾尼维亚.jpg\n",
      "<dlib.dlib.rectangles object at 0x00000151584E71B0>\n",
      "正在处理: heros\\冰霜女巫_丽桑卓.jpg\n",
      "<dlib.dlib.rectangles object at 0x00000151584E7270>\n",
      "正在处理: heros\\刀锋之影_泰隆.jpg\n",
      "<dlib.dlib.rectangles object at 0x00000151584E71B0>\n",
      "正在处理: heros\\刀锋舞者_艾瑞莉娅.jpg\n",
      "<dlib.dlib.rectangles object at 0x00000151584E7270>\n",
      "0 [(21, 30) (96, 105)]\n",
      "------\n",
      "正在处理: heros\\北地之怒_瑟庄妮.jpg\n",
      "<dlib.dlib.rectangles object at 0x00000151584E7210>\n",
      "正在处理: heros\\卡牌大师_崔斯特.jpg\n",
      "<dlib.dlib.rectangles object at 0x00000151584E74B0>\n",
      "正在处理: heros\\发条魔灵_奥莉安娜.jpg\n",
      "<dlib.dlib.rectangles object at 0x00000151584E7210>\n",
      "0 [(5, 30) (79, 105)]\n",
      "------\n",
      "正在处理: heros\\含羞蓓蕾_莉莉娅.jpg\n",
      "<dlib.dlib.rectangles object at 0x00000151584E7390>\n",
      "0 [(45, 32) (107, 94)]\n",
      "------\n",
      "正在处理: heros\\唤潮鲛姬_娜美.jpg\n",
      "<dlib.dlib.rectangles object at 0x00000151584E71B0>\n",
      "正在处理: heros\\圣枪游侠_卢锡安.jpg\n",
      "<dlib.dlib.rectangles object at 0x00000151584E7450>\n",
      "正在处理: heros\\圣锤之毅_波比.jpg\n",
      "<dlib.dlib.rectangles object at 0x00000151584E71B0>\n",
      "正在处理: heros\\堕落天使_莫甘娜.jpg\n",
      "<dlib.dlib.rectangles object at 0x00000151584E7450>\n",
      "0 [(13, 30) (88, 105)]\n",
      "------\n",
      "正在处理: heros\\复仇之矛_卡莉丝塔.jpg\n",
      "<dlib.dlib.rectangles object at 0x00000151584E74B0>\n",
      "正在处理: heros\\复仇焰魂_布兰德.jpg\n",
      "<dlib.dlib.rectangles object at 0x00000151584E75D0>\n",
      "正在处理: heros\\大发明家_黑默丁格.jpg\n",
      "<dlib.dlib.rectangles object at 0x00000151584E74B0>\n",
      "正在处理: heros\\天启者_卡尔玛.jpg\n",
      "<dlib.dlib.rectangles object at 0x00000151584E75D0>\n",
      "正在处理: heros\\寒冰射手_艾希.jpg\n",
      "<dlib.dlib.rectangles object at 0x00000151584E74B0>\n",
      "正在处理: heros\\封魔剑魂_永恩.jpg\n",
      "<dlib.dlib.rectangles object at 0x00000151584E75D0>\n",
      "正在处理: heros\\山隐之焰_奥恩.jpg\n",
      "<dlib.dlib.rectangles object at 0x00000151584E74B0>\n",
      "正在处理: heros\\岩雀_塔莉垭.jpg\n",
      "<dlib.dlib.rectangles object at 0x00000151584E75D0>\n",
      "0 [(21, 30) (96, 105)]\n",
      "------\n",
      "正在处理: heros\\巨魔之王_特朗德尔.jpg\n",
      "<dlib.dlib.rectangles object at 0x00000151584E7510>\n",
      "正在处理: heros\\幻翎_洛.jpg\n",
      "<dlib.dlib.rectangles object at 0x00000151584E7450>\n",
      "0 [(30, 30) (104, 105)]\n",
      "------\n",
      "正在处理: heros\\弗雷尔卓德之心_布隆.jpg\n",
      "<dlib.dlib.rectangles object at 0x00000151584E74B0>\n",
      "正在处理: heros\\影流之主_劫.jpg\n",
      "<dlib.dlib.rectangles object at 0x00000151584E75D0>\n",
      "正在处理: heros\\影流之镰_凯隐.jpg\n",
      "<dlib.dlib.rectangles object at 0x00000151584E74B0>\n",
      "0 [(31, 39) (93, 101)]\n",
      "------\n",
      "正在处理: heros\\德玛西亚之力_盖伦.jpg\n",
      "<dlib.dlib.rectangles object at 0x00000151584E7570>\n",
      "0 [(13, 22) (88, 96)]\n",
      "------\n",
      "正在处理: heros\\德玛西亚之翼_奎因.jpg\n",
      "<dlib.dlib.rectangles object at 0x00000151584E7630>\n",
      "正在处理: heros\\德玛西亚皇子_嘉文四世.jpg\n",
      "<dlib.dlib.rectangles object at 0x00000151584E7510>\n",
      "正在处理: heros\\德邦总管_赵信.jpg\n",
      "<dlib.dlib.rectangles object at 0x00000151584E7630>\n",
      "正在处理: heros\\恶魔小丑_萨科.jpg\n",
      "<dlib.dlib.rectangles object at 0x00000151584E7510>\n",
      "正在处理: heros\\惩戒之箭_韦鲁斯.jpg\n",
      "<dlib.dlib.rectangles object at 0x00000151584E7630>\n",
      "正在处理: heros\\戏命师_烬.jpg\n",
      "<dlib.dlib.rectangles object at 0x00000151584E7510>\n",
      "正在处理: heros\\战争之影_赫卡里姆.jpg\n",
      "<dlib.dlib.rectangles object at 0x00000151584E7450>\n",
      "正在处理: heros\\战争女神_希维尔.jpg\n",
      "<dlib.dlib.rectangles object at 0x00000151584E7630>\n",
      "正在处理: heros\\扭曲树精_茂凯.jpg\n",
      "<dlib.dlib.rectangles object at 0x00000151584E7450>\n",
      "正在处理: heros\\披甲龙龟_拉莫斯.jpg\n",
      "<dlib.dlib.rectangles object at 0x00000151584E7630>\n",
      "正在处理: heros\\探险家_伊泽瑞尔.jpg\n",
      "<dlib.dlib.rectangles object at 0x00000151584E7450>\n",
      "正在处理: heros\\放逐之刃_锐雯.jpg\n",
      "<dlib.dlib.rectangles object at 0x00000151584E7630>\n",
      "正在处理: heros\\无双剑姬_菲奥娜.jpg\n",
      "<dlib.dlib.rectangles object at 0x00000151584E7450>\n",
      "正在处理: heros\\无极剑圣_易.jpg\n",
      "<dlib.dlib.rectangles object at 0x00000151584E7690>\n",
      "正在处理: heros\\无畏战车_厄加特.jpg\n",
      "<dlib.dlib.rectangles object at 0x00000151584E7630>\n",
      "正在处理: heros\\时光守护者_基兰.jpg\n",
      "<dlib.dlib.rectangles object at 0x00000151584E7690>\n",
      "正在处理: heros\\时间刺客_艾克.jpg\n",
      "<dlib.dlib.rectangles object at 0x00000151584E7630>\n",
      "0 [(6, 7) (96, 96)]\n",
      "------\n",
      "正在处理: heros\\星界游神_巴德.jpg\n",
      "<dlib.dlib.rectangles object at 0x00000151584E75D0>\n",
      "正在处理: heros\\星籁歌姬_萨勒芬妮.jpg\n",
      "<dlib.dlib.rectangles object at 0x00000151584E7570>\n",
      "0 [(21, 30) (96, 105)]\n",
      "------\n",
      "正在处理: heros\\暗夜猎手_薇恩.jpg\n",
      "<dlib.dlib.rectangles object at 0x00000151584E71B0>\n",
      "正在处理: heros\\暗裔剑魔_亚托克斯.jpg\n",
      "<dlib.dlib.rectangles object at 0x00000151584E7510>\n",
      "正在处理: heros\\暗黑元首_辛德拉.jpg\n",
      "<dlib.dlib.rectangles object at 0x00000151584E71B0>\n",
      "正在处理: heros\\暮光之眼_慎.jpg\n",
      "<dlib.dlib.rectangles object at 0x00000151584E7510>\n",
      "正在处理: heros\\暮光星灵_佐伊.jpg\n",
      "<dlib.dlib.rectangles object at 0x00000151584E71B0>\n",
      "正在处理: heros\\暴怒骑士_克烈.jpg\n",
      "<dlib.dlib.rectangles object at 0x00000151584E7510>\n",
      "正在处理: heros\\暴走萝莉_金克丝.jpg\n",
      "<dlib.dlib.rectangles object at 0x00000151584E71B0>\n",
      "0 [(21, 22) (96, 96)]\n",
      "------\n",
      "正在处理: heros\\曙光女神_蕾欧娜.jpg\n",
      "<dlib.dlib.rectangles object at 0x00000151584E7690>\n",
      "0 [(17, 32) (80, 94)]\n",
      "------\n",
      "正在处理: heros\\未来守护者_杰斯.jpg\n",
      "<dlib.dlib.rectangles object at 0x00000151584E7450>\n",
      "0 [(13, 38) (88, 113)]\n",
      "------\n",
      "正在处理: heros\\机械先驱_维克托.jpg\n",
      "<dlib.dlib.rectangles object at 0x00000151584E75D0>\n",
      "正在处理: heros\\机械公敌_兰博.jpg\n",
      "<dlib.dlib.rectangles object at 0x00000151584E7510>\n",
      "正在处理: heros\\正义天使_凯尔.jpg\n",
      "<dlib.dlib.rectangles object at 0x00000151584E75D0>\n",
      "正在处理: heros\\正义巨像_加里奥.jpg\n",
      "<dlib.dlib.rectangles object at 0x00000151584E7510>\n",
      "正在处理: heros\\武器大师_贾克斯.jpg\n",
      "<dlib.dlib.rectangles object at 0x00000151584E75D0>\n",
      "正在处理: heros\\死亡颂唱者_卡尔萨斯.jpg\n",
      "<dlib.dlib.rectangles object at 0x00000151584E7510>\n",
      "正在处理: heros\\殇之木乃伊_阿木木.jpg\n",
      "<dlib.dlib.rectangles object at 0x00000151584E7810>\n",
      "正在处理: heros\\残月之肃_厄斐琉斯.jpg\n",
      "<dlib.dlib.rectangles object at 0x00000151584E75D0>\n",
      "0 [(37, 49) (89, 101)]\n",
      "------\n",
      "正在处理: heros\\水晶先锋_斯卡纳.jpg\n",
      "<dlib.dlib.rectangles object at 0x00000151584E7750>\n",
      "正在处理: heros\\永恒梦魇_魔腾.jpg\n",
      "<dlib.dlib.rectangles object at 0x00000151584E76F0>\n",
      "正在处理: heros\\永猎双子_千珏.jpg\n",
      "<dlib.dlib.rectangles object at 0x00000151584E7750>\n",
      "正在处理: heros\\沙漠死神_内瑟斯.jpg\n",
      "<dlib.dlib.rectangles object at 0x00000151584E76F0>\n",
      "正在处理: heros\\沙漠玫瑰_莎弥拉.jpg\n",
      "<dlib.dlib.rectangles object at 0x00000151584E7750>\n",
      "0 [(21, 30) (96, 105)]\n",
      "------\n",
      "正在处理: heros\\沙漠皇帝_阿兹尔.jpg\n",
      "<dlib.dlib.rectangles object at 0x00000151584E7510>\n",
      "正在处理: heros\\河流之王_塔姆.jpg\n",
      "<dlib.dlib.rectangles object at 0x00000151584E7870>\n",
      "正在处理: heros\\法外狂徒_格雷福斯.jpg\n",
      "<dlib.dlib.rectangles object at 0x00000151584E7510>\n",
      "正在处理: heros\\海兽祭司_俄洛伊.jpg\n",
      "<dlib.dlib.rectangles object at 0x00000151584E7870>\n",
      "0 [(30, 22) (104, 96)]\n",
      "------\n",
      "正在处理: heros\\海洋之灾_普朗克.jpg\n",
      "<dlib.dlib.rectangles object at 0x00000151584E7810>\n",
      "正在处理: heros\\涤魂圣枪_赛娜.jpg\n",
      "<dlib.dlib.rectangles object at 0x00000151584E77B0>\n",
      "正在处理: heros\\深海泰坦_诺提勒斯.jpg\n",
      "<dlib.dlib.rectangles object at 0x00000151584E7810>\n",
      "正在处理: heros\\深渊巨口_克格莫.jpg\n",
      "<dlib.dlib.rectangles object at 0x00000151584E77B0>\n",
      "正在处理: heros\\潮汐海灵_菲兹.jpg\n",
      "<dlib.dlib.rectangles object at 0x00000151584E7810>\n",
      "正在处理: heros\\炼金术士_辛吉德.jpg\n",
      "<dlib.dlib.rectangles object at 0x00000151584E77B0>\n",
      "正在处理: heros\\熔岩巨兽_墨菲特.jpg\n",
      "<dlib.dlib.rectangles object at 0x00000151584E7810>\n",
      "正在处理: heros\\爆破鬼才_吉格斯.jpg\n",
      "<dlib.dlib.rectangles object at 0x00000151584E77B0>\n",
      "正在处理: heros\\牛头酋长_阿利斯塔.jpg\n",
      "<dlib.dlib.rectangles object at 0x00000151584E7810>\n",
      "正在处理: heros\\牧魂人_约里克.jpg\n",
      "<dlib.dlib.rectangles object at 0x00000151584E77B0>\n",
      "正在处理: heros\\狂战士_奥拉夫.jpg\n",
      "<dlib.dlib.rectangles object at 0x00000151584E7810>\n",
      "正在处理: heros\\狂暴之心_凯南.jpg\n",
      "<dlib.dlib.rectangles object at 0x00000151584E77B0>\n",
      "正在处理: heros\\狂野女猎手_奈德丽.jpg\n",
      "<dlib.dlib.rectangles object at 0x00000151584E7810>\n",
      "0 [(31, 44) (83, 95)]\n",
      "------\n",
      "正在处理: heros\\猩红收割者_弗拉基米尔.jpg\n",
      "<dlib.dlib.rectangles object at 0x00000151584E76F0>\n",
      "0 [(31, 18) (93, 80)]\n",
      "------\n",
      "正在处理: heros\\琴瑟仙女_娑娜.jpg\n",
      "<dlib.dlib.rectangles object at 0x00000151584E7510>\n",
      "正在处理: heros\\瓦洛兰之盾_塔里克.jpg\n",
      "<dlib.dlib.rectangles object at 0x00000151584E7990>\n",
      "0 [(21, 22) (96, 96)]\n",
      "------\n"
     ]
    },
    {
     "name": "stdout",
     "output_type": "stream",
     "text": [
      "正在处理: heros\\生化魔人_扎克.jpg\n",
      "<dlib.dlib.rectangles object at 0x00000151584E77B0>\n",
      "正在处理: heros\\疾风剑豪_亚索.jpg\n",
      "<dlib.dlib.rectangles object at 0x00000151584E78D0>\n",
      "正在处理: heros\\痛苦之拥_伊芙琳.jpg\n",
      "<dlib.dlib.rectangles object at 0x00000151584E77B0>\n",
      "正在处理: heros\\瘟疫之源_图奇.jpg\n",
      "<dlib.dlib.rectangles object at 0x00000151584E78D0>\n",
      "正在处理: heros\\皎月女神_黛安娜.jpg\n",
      "<dlib.dlib.rectangles object at 0x00000151584E79F0>\n",
      "正在处理: heros\\皮城女警_凯特琳.jpg\n",
      "<dlib.dlib.rectangles object at 0x00000151584E78D0>\n",
      "正在处理: heros\\皮城执法官_蔚.jpg\n",
      "<dlib.dlib.rectangles object at 0x00000151584E79F0>\n",
      "0 [(31, 46) (93, 108)]\n",
      "------\n",
      "正在处理: heros\\盲僧_李青.jpg\n",
      "<dlib.dlib.rectangles object at 0x00000151584E7930>\n",
      "正在处理: heros\\祖安怒兽_沃里克.jpg\n",
      "<dlib.dlib.rectangles object at 0x00000151584E77B0>\n",
      "正在处理: heros\\祖安狂人_蒙多医生.jpg\n",
      "<dlib.dlib.rectangles object at 0x00000151584E7930>\n",
      "正在处理: heros\\离群之刺_阿卡丽.jpg\n",
      "<dlib.dlib.rectangles object at 0x00000151584E77B0>\n",
      "正在处理: heros\\符文法师_瑞兹.jpg\n",
      "<dlib.dlib.rectangles object at 0x00000151584E7930>\n",
      "正在处理: heros\\翠神_艾翁.jpg\n",
      "<dlib.dlib.rectangles object at 0x00000151584E77B0>\n",
      "正在处理: heros\\腕豪_瑟提.jpg\n",
      "<dlib.dlib.rectangles object at 0x00000151584E7930>\n",
      "正在处理: heros\\英勇投弹手_库奇.jpg\n",
      "<dlib.dlib.rectangles object at 0x00000151584E77B0>\n",
      "正在处理: heros\\荆棘之兴_婕拉.jpg\n",
      "<dlib.dlib.rectangles object at 0x00000151584E7A50>\n",
      "0 [(31, 44) (83, 95)]\n",
      "------\n",
      "正在处理: heros\\荒漠屠夫_雷克顿.jpg\n",
      "<dlib.dlib.rectangles object at 0x00000151584E7510>\n",
      "正在处理: heros\\荣耀行刑官_德莱文.jpg\n",
      "<dlib.dlib.rectangles object at 0x00000151584E79F0>\n",
      "正在处理: heros\\蒸汽机器人_布里茨.jpg\n",
      "<dlib.dlib.rectangles object at 0x00000151584E7510>\n",
      "正在处理: heros\\虚空之女_卡莎.jpg\n",
      "<dlib.dlib.rectangles object at 0x00000151584E79F0>\n",
      "0 [(6, 17) (96, 106)]\n",
      "------\n",
      "正在处理: heros\\虚空之眼_维克兹.jpg\n",
      "<dlib.dlib.rectangles object at 0x00000151584E78D0>\n",
      "正在处理: heros\\虚空先知_玛尔扎哈.jpg\n",
      "<dlib.dlib.rectangles object at 0x00000151584E7930>\n",
      "正在处理: heros\\虚空恐惧_科加斯.jpg\n",
      "<dlib.dlib.rectangles object at 0x00000151584E78D0>\n",
      "正在处理: heros\\虚空掠夺者_卡兹克.jpg\n",
      "<dlib.dlib.rectangles object at 0x00000151584E7930>\n",
      "正在处理: heros\\虚空行者_卡萨丁.jpg\n",
      "<dlib.dlib.rectangles object at 0x00000151584E78D0>\n",
      "正在处理: heros\\虚空遁地兽_雷克塞.jpg\n",
      "<dlib.dlib.rectangles object at 0x00000151584E7930>\n",
      "正在处理: heros\\蛮族之王_泰达米尔.jpg\n",
      "<dlib.dlib.rectangles object at 0x00000151584E78D0>\n",
      "正在处理: heros\\蜘蛛女皇_伊莉丝.jpg\n",
      "<dlib.dlib.rectangles object at 0x00000151584E7990>\n",
      "0 [(37, 44) (89, 95)]\n",
      "------\n",
      "正在处理: heros\\血港鬼影_派克.jpg\n",
      "<dlib.dlib.rectangles object at 0x00000151584E77B0>\n",
      "正在处理: heros\\解脱者_塞拉斯.jpg\n",
      "<dlib.dlib.rectangles object at 0x00000151584E7A50>\n",
      "正在处理: heros\\诡术妖姬_乐芙兰.jpg\n",
      "<dlib.dlib.rectangles object at 0x00000151584E77B0>\n",
      "0 [(45, 32) (107, 94)]\n",
      "------\n",
      "正在处理: heros\\诺克萨斯之手_德莱厄斯.jpg\n",
      "<dlib.dlib.rectangles object at 0x00000151584E7510>\n",
      "0 [(6, 17) (96, 106)]\n",
      "------\n",
      "正在处理: heros\\诺克萨斯统领_斯维因.jpg\n",
      "<dlib.dlib.rectangles object at 0x00000151584E78D0>\n",
      "0 [(-14, 17) (86, 106)]\n",
      "------\n",
      "正在处理: heros\\赏金猎人_厄运小姐.jpg\n",
      "<dlib.dlib.rectangles object at 0x00000151584E7A50>\n",
      "正在处理: heros\\迅捷斥候_提莫.jpg\n",
      "<dlib.dlib.rectangles object at 0x00000151584E7B70>\n",
      "正在处理: heros\\远古巫灵_泽拉斯.jpg\n",
      "<dlib.dlib.rectangles object at 0x00000151584E7A50>\n",
      "正在处理: heros\\远古恐惧_费德提克.jpg\n",
      "<dlib.dlib.rectangles object at 0x00000151584E7B70>\n",
      "正在处理: heros\\迷失之牙_纳尔.jpg\n",
      "<dlib.dlib.rectangles object at 0x00000151584E7A50>\n",
      "正在处理: heros\\逆羽_霞.jpg\n",
      "<dlib.dlib.rectangles object at 0x00000151584E7B70>\n",
      "正在处理: heros\\邪恶小法师_维迦.jpg\n",
      "<dlib.dlib.rectangles object at 0x00000151584E7BD0>\n",
      "正在处理: heros\\酒桶_古拉加斯.jpg\n",
      "<dlib.dlib.rectangles object at 0x00000151584E7A50>\n",
      "正在处理: heros\\铁铠冥魂_莫德凯撒.jpg\n",
      "<dlib.dlib.rectangles object at 0x00000151584E7BD0>\n",
      "正在处理: heros\\铸星龙王_奥瑞利安索尔.jpg\n",
      "<dlib.dlib.rectangles object at 0x00000151584E7A50>\n",
      "正在处理: heros\\雪原双子_努努和威朗普.jpg\n",
      "<dlib.dlib.rectangles object at 0x00000151584E7BD0>\n",
      "正在处理: heros\\青钢影_卡蜜尔.jpg\n",
      "<dlib.dlib.rectangles object at 0x00000151584E7A50>\n",
      "正在处理: heros\\风暴之怒_迦娜.jpg\n",
      "<dlib.dlib.rectangles object at 0x00000151584E7BD0>\n",
      "0 [(17, 32) (80, 94)]\n",
      "------\n",
      "正在处理: heros\\魂锁典狱长_锤石.jpg\n",
      "<dlib.dlib.rectangles object at 0x00000151584E7AB0>\n",
      "正在处理: heros\\魔法猫咪_悠米.jpg\n",
      "<dlib.dlib.rectangles object at 0x00000151584E7B70>\n",
      "正在处理: heros\\魔蛇之拥_卡西奥佩娅.jpg\n",
      "<dlib.dlib.rectangles object at 0x00000151584E7AB0>\n",
      "正在处理: heros\\麦林炮手_崔丝塔娜.jpg\n",
      "<dlib.dlib.rectangles object at 0x00000151584E7B70>\n",
      "正在处理: heros\\黑暗之女_安妮.jpg\n",
      "<dlib.dlib.rectangles object at 0x00000151584E7AB0>\n",
      "正在处理: heros\\齐天大圣_孙悟空.jpg\n",
      "<dlib.dlib.rectangles object at 0x00000151584E7B70>\n",
      "正在处理: heros\\龙血武姬_希瓦娜.jpg\n",
      "<dlib.dlib.rectangles object at 0x00000151584E7AB0>\n",
      "识别训练完毕！\n"
     ]
    }
   ],
   "source": [
    "candidate = []         # 存放训练集人物名字\n",
    "descriptors = []       #存放训练集人物特征列表 \n",
    "for f in glob.glob(os.path.join(faces_folder_path,\"*.jpg\")):\n",
    "    print(\"正在处理: {}\".format(f))\n",
    "    img = io.imread(f)\n",
    "    #candidate.append(f.split('\\\\')[-1].split('.')[0])\n",
    "    # 人脸检测\n",
    "    dets = detector(img, 1)\n",
    "    #print(dets)\n",
    "    #print(k,d,enumerate(dets))\n",
    "    for k, d in enumerate(dets): \n",
    "        #print(k,d)\n",
    "        print('------')\n",
    "        candidate.append(f.split('\\\\')[-1].split('.')[0])\n",
    "        shape = sp(img, d)\n",
    "        # 提取特征\n",
    "        face_descriptor = facerec.compute_face_descriptor(img, shape)\n",
    "        v = numpy.array(face_descriptor) \n",
    "        descriptors.append(v)\n",
    "print('识别训练完毕！')"
   ]
  },
  {
   "cell_type": "code",
   "execution_count": 3,
   "metadata": {},
   "outputs": [
    {
     "name": "stdout",
     "output_type": "stream",
     "text": [
      "(29, 128)\n"
     ]
    }
   ],
   "source": [
    "import numpy as np\n",
    "print(np.array(descriptors).shape)"
   ]
  },
  {
   "cell_type": "code",
   "execution_count": 4,
   "metadata": {},
   "outputs": [
    {
     "name": "stdout",
     "output_type": "stream",
     "text": [
      "(29,)\n"
     ]
    }
   ],
   "source": [
    "candidate \n",
    "print(np.array(candidate).shape)"
   ]
  },
  {
   "cell_type": "code",
   "execution_count": 5,
   "metadata": {},
   "outputs": [
    {
     "name": "stdout",
     "output_type": "stream",
     "text": [
      "[[[0 0 5]\n",
      "  [0 0 5]\n",
      "  [0 0 5]\n",
      "  ...\n",
      "  [0 0 0]\n",
      "  [0 0 0]\n",
      "  [0 0 0]]\n",
      "\n",
      " [[0 0 5]\n",
      "  [0 0 5]\n",
      "  [0 0 5]\n",
      "  ...\n",
      "  [0 0 0]\n",
      "  [0 0 0]\n",
      "  [0 0 0]]\n",
      "\n",
      " [[0 0 5]\n",
      "  [0 0 5]\n",
      "  [0 0 5]\n",
      "  ...\n",
      "  [0 0 0]\n",
      "  [0 0 0]\n",
      "  [0 0 0]]\n",
      "\n",
      " ...\n",
      "\n",
      " [[0 0 0]\n",
      "  [0 0 0]\n",
      "  [0 0 0]\n",
      "  ...\n",
      "  [5 2 8]\n",
      "  [2 1 8]\n",
      "  [0 0 8]]\n",
      "\n",
      " [[0 0 0]\n",
      "  [0 0 0]\n",
      "  [0 0 0]\n",
      "  ...\n",
      "  [2 1 8]\n",
      "  [2 1 8]\n",
      "  [0 0 8]]\n",
      "\n",
      " [[0 0 0]\n",
      "  [0 0 0]\n",
      "  [0 0 0]\n",
      "  ...\n",
      "  [0 0 8]\n",
      "  [0 0 8]\n",
      "  [0 0 8]]]\n",
      "<dlib.dlib.rectangles object at 0x00000151523CE150>\n"
     ]
    }
   ],
   "source": [
    "test_path='haolian'\n",
    "try:\n",
    "    img = io.imread(r'金克丝.jpg')\n",
    "    #print(img)\n",
    "    dets = detector(img, 1)\n",
    "    #print(dets)\n",
    "except:\n",
    "    print('输入路径有误，请检查！')"
   ]
  },
  {
   "cell_type": "code",
   "execution_count": 6,
   "metadata": {},
   "outputs": [
    {
     "name": "stdout",
     "output_type": "stream",
     "text": [
      "---\n",
      "---\n",
      "0 [(21, 22) (96, 96)]\n",
      "---\n",
      "<dlib.dlib.full_object_detection object at 0x00000151523B6B90>\n"
     ]
    }
   ],
   "source": [
    "dist = []\n",
    "print('---')\n",
    "for k, d in enumerate(dets):\n",
    "    print('---')\n",
    "    print(k,d)\n",
    "    print('---')\n",
    "    shape = sp(img, d)\n",
    "    print(shape)\n",
    "    face_descriptor = facerec.compute_face_descriptor(img, shape)\n",
    "    d_test = numpy.array(face_descriptor) \n",
    "    for i in descriptors:                #计算距离\n",
    "        dist_ = numpy.linalg.norm(i-d_test)\n",
    "        dist.append(dist_)"
   ]
  },
  {
   "cell_type": "code",
   "execution_count": 7,
   "metadata": {},
   "outputs": [
    {
     "name": "stdout",
     "output_type": "stream",
     "text": [
      "识别到的人物最有可能是:  暴走萝莉_金克丝\n"
     ]
    },
    {
     "data": {
      "image/png": "[encoded data removed]",
      "text/plain": [
       "<Figure size 432x288 with 1 Axes>"
      ]
     },
     "metadata": {
      "needs_background": "light"
     },
     "output_type": "display_data"
    }
   ],
   "source": [
    "import matplotlib.pyplot as plt # plt 用于显示图片\n",
    "import matplotlib.image as mpimg # mpimg 用于读取图片\n",
    "from pathlib import Path\n",
    "cwd = Path.cwd()\n",
    "# 训练集人物和距离组成一个字典\n",
    "c_d = dict(zip(candidate,dist))                \n",
    "cd_sorted = sorted(c_d.items(), key=lambda d:d[1])\n",
    "cd_sorted\n",
    "print (\"识别到的人物最有可能是: \",cd_sorted[0][0])\n",
    "lena = mpimg.imread(cwd/'heros'/'{}.jpg'.format(cd_sorted[0][0]))\n",
    "plt.imshow(lena) # 显示图片\n",
    "plt.axis('off') # 不显示坐标轴\n",
    "plt.show()"
   ]
  }
 ],
 "metadata": {
  "kernelspec": {
   "display_name": "Python 3",
   "language": "python",
   "name": "python3"
  },
  "language_info": {
   "codemirror_mode": {
    "name": "ipython",
    "version": 3
   },
   "file_extension": ".py",
   "mimetype": "text/x-python",
   "name": "python",
   "nbconvert_exporter": "python",
   "pygments_lexer": "ipython3",
   "version": "3.8.3"
  }
 },
 "nbformat": 4,
 "nbformat_minor": 4
}
